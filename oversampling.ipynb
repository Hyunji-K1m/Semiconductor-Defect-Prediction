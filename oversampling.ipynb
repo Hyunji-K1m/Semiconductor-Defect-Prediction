{
 "cells": [
  {
   "cell_type": "code",
   "execution_count": 2,
   "metadata": {
    "id": "arbitrary-education"
   },
   "outputs": [],
   "source": [
    "import pandas as pd\n",
    "import numpy as np\n",
    "import seaborn as sns\n",
    "import warnings\n",
    "import matplotlib.pyplot as plt\n",
    "\n",
    "from sklearn.model_selection import train_test_split\n",
    "from sklearn.model_selection import GridSearchCV\n",
    "from sklearn.linear_model import LogisticRegression\n",
    "from sklearn.metrics import accuracy_score, precision_score, recall_score, roc_auc_score\n",
    "from sklearn.metrics import confusion_matrix\n",
    "from sklearn.preprocessing import MinMaxScaler, StandardScaler\n",
    "from sklearn.tree import DecisionTreeClassifier\n",
    "from sklearn.tree import export_graphviz\n",
    "from sklearn.metrics import f1_score, precision_recall_curve, roc_curve, make_scorer\n",
    "warnings.filterwarnings(action='ignore')"
   ]
  },
  {
   "cell_type": "markdown",
   "metadata": {
    "id": "varied-banana"
   },
   "source": [
    "### 결측치 처리에 대한 거는 저번에 올려둔 코드 보면 됨\n",
    "#### 이 코드는 결측치 처리 이후 전처리 +모델링 과정"
   ]
  },
  {
   "cell_type": "code",
   "execution_count": 3,
   "metadata": {
    "id": "biblical-priest"
   },
   "outputs": [
    {
     "ename": "FileNotFoundError",
     "evalue": "[Errno 2] File secom_final.csv does not exist: 'secom_final.csv'",
     "output_type": "error",
     "traceback": [
      "\u001b[1;31m---------------------------------------------------------------------------\u001b[0m",
      "\u001b[1;31mFileNotFoundError\u001b[0m                         Traceback (most recent call last)",
      "\u001b[1;32m<ipython-input-3-752493794dd9>\u001b[0m in \u001b[0;36m<module>\u001b[1;34m\u001b[0m\n\u001b[1;32m----> 1\u001b[1;33m \u001b[0mdf\u001b[0m\u001b[1;33m=\u001b[0m\u001b[0mpd\u001b[0m\u001b[1;33m.\u001b[0m\u001b[0mread_csv\u001b[0m\u001b[1;33m(\u001b[0m\u001b[1;34m\"secom_final.csv\"\u001b[0m\u001b[1;33m)\u001b[0m\u001b[1;33m.\u001b[0m\u001b[0mdrop\u001b[0m\u001b[1;33m(\u001b[0m\u001b[1;34m\"Unnamed: 0\"\u001b[0m\u001b[1;33m,\u001b[0m\u001b[0maxis\u001b[0m\u001b[1;33m=\u001b[0m\u001b[1;36m1\u001b[0m\u001b[1;33m)\u001b[0m\u001b[1;33m\u001b[0m\u001b[1;33m\u001b[0m\u001b[0m\n\u001b[0m",
      "\u001b[1;32m~\\anaconda3\\lib\\site-packages\\pandas\\io\\parsers.py\u001b[0m in \u001b[0;36mparser_f\u001b[1;34m(filepath_or_buffer, sep, delimiter, header, names, index_col, usecols, squeeze, prefix, mangle_dupe_cols, dtype, engine, converters, true_values, false_values, skipinitialspace, skiprows, skipfooter, nrows, na_values, keep_default_na, na_filter, verbose, skip_blank_lines, parse_dates, infer_datetime_format, keep_date_col, date_parser, dayfirst, cache_dates, iterator, chunksize, compression, thousands, decimal, lineterminator, quotechar, quoting, doublequote, escapechar, comment, encoding, dialect, error_bad_lines, warn_bad_lines, delim_whitespace, low_memory, memory_map, float_precision)\u001b[0m\n\u001b[0;32m    674\u001b[0m         )\n\u001b[0;32m    675\u001b[0m \u001b[1;33m\u001b[0m\u001b[0m\n\u001b[1;32m--> 676\u001b[1;33m         \u001b[1;32mreturn\u001b[0m \u001b[0m_read\u001b[0m\u001b[1;33m(\u001b[0m\u001b[0mfilepath_or_buffer\u001b[0m\u001b[1;33m,\u001b[0m \u001b[0mkwds\u001b[0m\u001b[1;33m)\u001b[0m\u001b[1;33m\u001b[0m\u001b[1;33m\u001b[0m\u001b[0m\n\u001b[0m\u001b[0;32m    677\u001b[0m \u001b[1;33m\u001b[0m\u001b[0m\n\u001b[0;32m    678\u001b[0m     \u001b[0mparser_f\u001b[0m\u001b[1;33m.\u001b[0m\u001b[0m__name__\u001b[0m \u001b[1;33m=\u001b[0m \u001b[0mname\u001b[0m\u001b[1;33m\u001b[0m\u001b[1;33m\u001b[0m\u001b[0m\n",
      "\u001b[1;32m~\\anaconda3\\lib\\site-packages\\pandas\\io\\parsers.py\u001b[0m in \u001b[0;36m_read\u001b[1;34m(filepath_or_buffer, kwds)\u001b[0m\n\u001b[0;32m    446\u001b[0m \u001b[1;33m\u001b[0m\u001b[0m\n\u001b[0;32m    447\u001b[0m     \u001b[1;31m# Create the parser.\u001b[0m\u001b[1;33m\u001b[0m\u001b[1;33m\u001b[0m\u001b[1;33m\u001b[0m\u001b[0m\n\u001b[1;32m--> 448\u001b[1;33m     \u001b[0mparser\u001b[0m \u001b[1;33m=\u001b[0m \u001b[0mTextFileReader\u001b[0m\u001b[1;33m(\u001b[0m\u001b[0mfp_or_buf\u001b[0m\u001b[1;33m,\u001b[0m \u001b[1;33m**\u001b[0m\u001b[0mkwds\u001b[0m\u001b[1;33m)\u001b[0m\u001b[1;33m\u001b[0m\u001b[1;33m\u001b[0m\u001b[0m\n\u001b[0m\u001b[0;32m    449\u001b[0m \u001b[1;33m\u001b[0m\u001b[0m\n\u001b[0;32m    450\u001b[0m     \u001b[1;32mif\u001b[0m \u001b[0mchunksize\u001b[0m \u001b[1;32mor\u001b[0m \u001b[0miterator\u001b[0m\u001b[1;33m:\u001b[0m\u001b[1;33m\u001b[0m\u001b[1;33m\u001b[0m\u001b[0m\n",
      "\u001b[1;32m~\\anaconda3\\lib\\site-packages\\pandas\\io\\parsers.py\u001b[0m in \u001b[0;36m__init__\u001b[1;34m(self, f, engine, **kwds)\u001b[0m\n\u001b[0;32m    878\u001b[0m             \u001b[0mself\u001b[0m\u001b[1;33m.\u001b[0m\u001b[0moptions\u001b[0m\u001b[1;33m[\u001b[0m\u001b[1;34m\"has_index_names\"\u001b[0m\u001b[1;33m]\u001b[0m \u001b[1;33m=\u001b[0m \u001b[0mkwds\u001b[0m\u001b[1;33m[\u001b[0m\u001b[1;34m\"has_index_names\"\u001b[0m\u001b[1;33m]\u001b[0m\u001b[1;33m\u001b[0m\u001b[1;33m\u001b[0m\u001b[0m\n\u001b[0;32m    879\u001b[0m \u001b[1;33m\u001b[0m\u001b[0m\n\u001b[1;32m--> 880\u001b[1;33m         \u001b[0mself\u001b[0m\u001b[1;33m.\u001b[0m\u001b[0m_make_engine\u001b[0m\u001b[1;33m(\u001b[0m\u001b[0mself\u001b[0m\u001b[1;33m.\u001b[0m\u001b[0mengine\u001b[0m\u001b[1;33m)\u001b[0m\u001b[1;33m\u001b[0m\u001b[1;33m\u001b[0m\u001b[0m\n\u001b[0m\u001b[0;32m    881\u001b[0m \u001b[1;33m\u001b[0m\u001b[0m\n\u001b[0;32m    882\u001b[0m     \u001b[1;32mdef\u001b[0m \u001b[0mclose\u001b[0m\u001b[1;33m(\u001b[0m\u001b[0mself\u001b[0m\u001b[1;33m)\u001b[0m\u001b[1;33m:\u001b[0m\u001b[1;33m\u001b[0m\u001b[1;33m\u001b[0m\u001b[0m\n",
      "\u001b[1;32m~\\anaconda3\\lib\\site-packages\\pandas\\io\\parsers.py\u001b[0m in \u001b[0;36m_make_engine\u001b[1;34m(self, engine)\u001b[0m\n\u001b[0;32m   1112\u001b[0m     \u001b[1;32mdef\u001b[0m \u001b[0m_make_engine\u001b[0m\u001b[1;33m(\u001b[0m\u001b[0mself\u001b[0m\u001b[1;33m,\u001b[0m \u001b[0mengine\u001b[0m\u001b[1;33m=\u001b[0m\u001b[1;34m\"c\"\u001b[0m\u001b[1;33m)\u001b[0m\u001b[1;33m:\u001b[0m\u001b[1;33m\u001b[0m\u001b[1;33m\u001b[0m\u001b[0m\n\u001b[0;32m   1113\u001b[0m         \u001b[1;32mif\u001b[0m \u001b[0mengine\u001b[0m \u001b[1;33m==\u001b[0m \u001b[1;34m\"c\"\u001b[0m\u001b[1;33m:\u001b[0m\u001b[1;33m\u001b[0m\u001b[1;33m\u001b[0m\u001b[0m\n\u001b[1;32m-> 1114\u001b[1;33m             \u001b[0mself\u001b[0m\u001b[1;33m.\u001b[0m\u001b[0m_engine\u001b[0m \u001b[1;33m=\u001b[0m \u001b[0mCParserWrapper\u001b[0m\u001b[1;33m(\u001b[0m\u001b[0mself\u001b[0m\u001b[1;33m.\u001b[0m\u001b[0mf\u001b[0m\u001b[1;33m,\u001b[0m \u001b[1;33m**\u001b[0m\u001b[0mself\u001b[0m\u001b[1;33m.\u001b[0m\u001b[0moptions\u001b[0m\u001b[1;33m)\u001b[0m\u001b[1;33m\u001b[0m\u001b[1;33m\u001b[0m\u001b[0m\n\u001b[0m\u001b[0;32m   1115\u001b[0m         \u001b[1;32melse\u001b[0m\u001b[1;33m:\u001b[0m\u001b[1;33m\u001b[0m\u001b[1;33m\u001b[0m\u001b[0m\n\u001b[0;32m   1116\u001b[0m             \u001b[1;32mif\u001b[0m \u001b[0mengine\u001b[0m \u001b[1;33m==\u001b[0m \u001b[1;34m\"python\"\u001b[0m\u001b[1;33m:\u001b[0m\u001b[1;33m\u001b[0m\u001b[1;33m\u001b[0m\u001b[0m\n",
      "\u001b[1;32m~\\anaconda3\\lib\\site-packages\\pandas\\io\\parsers.py\u001b[0m in \u001b[0;36m__init__\u001b[1;34m(self, src, **kwds)\u001b[0m\n\u001b[0;32m   1889\u001b[0m         \u001b[0mkwds\u001b[0m\u001b[1;33m[\u001b[0m\u001b[1;34m\"usecols\"\u001b[0m\u001b[1;33m]\u001b[0m \u001b[1;33m=\u001b[0m \u001b[0mself\u001b[0m\u001b[1;33m.\u001b[0m\u001b[0musecols\u001b[0m\u001b[1;33m\u001b[0m\u001b[1;33m\u001b[0m\u001b[0m\n\u001b[0;32m   1890\u001b[0m \u001b[1;33m\u001b[0m\u001b[0m\n\u001b[1;32m-> 1891\u001b[1;33m         \u001b[0mself\u001b[0m\u001b[1;33m.\u001b[0m\u001b[0m_reader\u001b[0m \u001b[1;33m=\u001b[0m \u001b[0mparsers\u001b[0m\u001b[1;33m.\u001b[0m\u001b[0mTextReader\u001b[0m\u001b[1;33m(\u001b[0m\u001b[0msrc\u001b[0m\u001b[1;33m,\u001b[0m \u001b[1;33m**\u001b[0m\u001b[0mkwds\u001b[0m\u001b[1;33m)\u001b[0m\u001b[1;33m\u001b[0m\u001b[1;33m\u001b[0m\u001b[0m\n\u001b[0m\u001b[0;32m   1892\u001b[0m         \u001b[0mself\u001b[0m\u001b[1;33m.\u001b[0m\u001b[0munnamed_cols\u001b[0m \u001b[1;33m=\u001b[0m \u001b[0mself\u001b[0m\u001b[1;33m.\u001b[0m\u001b[0m_reader\u001b[0m\u001b[1;33m.\u001b[0m\u001b[0munnamed_cols\u001b[0m\u001b[1;33m\u001b[0m\u001b[1;33m\u001b[0m\u001b[0m\n\u001b[0;32m   1893\u001b[0m \u001b[1;33m\u001b[0m\u001b[0m\n",
      "\u001b[1;32mpandas\\_libs\\parsers.pyx\u001b[0m in \u001b[0;36mpandas._libs.parsers.TextReader.__cinit__\u001b[1;34m()\u001b[0m\n",
      "\u001b[1;32mpandas\\_libs\\parsers.pyx\u001b[0m in \u001b[0;36mpandas._libs.parsers.TextReader._setup_parser_source\u001b[1;34m()\u001b[0m\n",
      "\u001b[1;31mFileNotFoundError\u001b[0m: [Errno 2] File secom_final.csv does not exist: 'secom_final.csv'"
     ]
    }
   ],
   "source": [
    "df=pd.read_csv(\"secom_final.csv\").drop(\"Unnamed: 0\",axis=1)\n"
   ]
  },
  {
   "cell_type": "code",
   "execution_count": null,
   "metadata": {
    "id": "adverse-problem"
   },
   "outputs": [],
   "source": [
    "def remove_collinear_features(x, threshold):\n",
    "    '''\n",
    "    Objective:\n",
    "        Remove collinear features in a dataframe with a correlation coefficient\n",
    "        greater than the threshold. Removing collinear features can help a model \n",
    "        to generalize and improves the interpretability of the model.\n",
    "\n",
    "    Inputs: \n",
    "        x: features dataframe\n",
    "        threshold: features with correlations greater than this value are removed\n",
    "\n",
    "    Output: \n",
    "        dataframe that contains only the non-highly-collinear features\n",
    "    '''\n",
    "\n",
    "    # Calculate the correlation matrix\n",
    "    corr_matrix = x.corr()\n",
    "    iters = range(len(corr_matrix.columns) - 1)\n",
    "    drop_cols = []\n",
    "\n",
    "    # Iterate through the correlation matrix and compare correlations\n",
    "    for i in iters:\n",
    "        for j in range(i+1):\n",
    "            item = corr_matrix.iloc[j:(j+1), (i+1):(i+2)]\n",
    "            col = item.columns\n",
    "            row = item.index\n",
    "            val = abs(item.values)\n",
    "\n",
    "            # If correlation exceeds the threshold\n",
    "            if val >= threshold:\n",
    "                # Print the correlated features and the correlation value\n",
    "                #print(col.values[0], \"|\", row.values[0], \"|\", round(val[0][0], 2))\n",
    "                drop_cols.append(col.values[0])\n",
    "\n",
    "    # Drop one of each pair of correlated columns\n",
    "    drops = set(drop_cols)\n",
    "    x = x.drop(columns=drops)\n",
    "\n",
    "    return x"
   ]
  },
  {
   "cell_type": "markdown",
   "metadata": {
    "id": "institutional-contrary"
   },
   "source": [
    "### 다중공선성 방지해주기 위해서 독립변수 간 상관관계가 0.9 이상인 feature pair 중에 하나 제거\n",
    "\n",
    "변수 450->251개로 줄었음.\n"
   ]
  },
  {
   "cell_type": "code",
   "execution_count": null,
   "metadata": {
    "id": "leading-produce",
    "scrolled": false
   },
   "outputs": [],
   "source": [
    "df_corrdel = remove_collinear_features(df,0.9)"
   ]
  },
  {
   "cell_type": "code",
   "execution_count": null,
   "metadata": {
    "id": "behavioral-cheat"
   },
   "outputs": [],
   "source": [
    "df_final=df_corrdel.copy()"
   ]
  },
  {
   "cell_type": "markdown",
   "metadata": {
    "id": "sticky-friend"
   },
   "source": [
    "## outlier 처리\n",
    "### 1. 이상치 처리 전, 테스트 데이터는 따로 분리해놓음.\n",
    "### 이유: 이상치 처리를 한 후, 테스트 데이터를 나누게 되면 이미 테스트 데이터가 전처리 과정에서 사용된 것이기 때문에 잘못된 전처리 방법이 된다. -> 대본에 적어놓고 언급 ㄱ ㄱ\n",
    "### feature selection도 마찬가지임!\n",
    "\n",
    "### 2. 트레인 데이터에서 클래스 별(Pass, Fail)로 데이터 셋을 나눈 후, isolation forest 알고리즘을 사용하여 각각의 Pass 데이터 분포, Fail 데이터 분포에  따르지 않는 index들을 분석에 악영향을 주는 노이즈라고 취급하고 제거(각 1% ) \n",
    "\n",
    "### 3. 각각 정규화 후 3차원 PCA 사용하여 시각화함."
   ]
  },
  {
   "cell_type": "code",
   "execution_count": null,
   "metadata": {
    "id": "dental-transportation"
   },
   "outputs": [],
   "source": [
    "class_weight=len(df_final[df_final[\"Pass/Fail\"]==1])/len(df_final[df_final[\"Pass/Fail\"]==0])"
   ]
  },
  {
   "cell_type": "code",
   "execution_count": null,
   "metadata": {
    "id": "perfect-manhattan"
   },
   "outputs": [],
   "source": [
    "y = df_final['Pass/Fail']\n",
    "X1 = df_final.drop('Pass/Fail',axis=1)"
   ]
  },
  {
   "cell_type": "code",
   "execution_count": null,
   "metadata": {
    "id": "continental-riding"
   },
   "outputs": [],
   "source": [
    "X1_train, X1_test, y1_train, y1_test = train_test_split(X1,y,test_size = 0.2, random_state = 12, stratify = y)"
   ]
  },
  {
   "cell_type": "code",
   "execution_count": null,
   "metadata": {
    "id": "judicial-industry"
   },
   "outputs": [],
   "source": [
    "train=pd.concat([X1_train,y1_train],axis=1)"
   ]
  },
  {
   "cell_type": "code",
   "execution_count": null,
   "metadata": {
    "id": "seeing-demographic"
   },
   "outputs": [],
   "source": [
    "train_Pass=train[train['Pass/Fail']==0].drop(\"Pass/Fail\",axis=1)\n",
    "train_Fail=train[train[\"Pass/Fail\"]==1].drop(\"Pass/Fail\",axis=1)\n",
    "train_Pass=train_Pass.reset_index()\n",
    "train_Pass.drop('index',axis=1,inplace=True)\n",
    "train_Fail=train_Fail.reset_index()\n",
    "train_Fail.drop('index',axis=1,inplace=True)"
   ]
  },
  {
   "cell_type": "code",
   "execution_count": null,
   "metadata": {
    "colab": {
     "base_uri": "https://localhost:8080/"
    },
    "id": "likely-geography",
    "outputId": "9cd4be7a-4a8d-4b46-8d70-d100e6bcb204"
   },
   "outputs": [
    {
     "name": "stdout",
     "output_type": "stream",
     "text": [
      "[36, 74, 90, 183, 191, 194, 362, 509, 524, 588, 781, 932, 956, 1049]\n",
      " 1    1156\n",
      "-1      14\n",
      "Name: anomaly, dtype: int64\n"
     ]
    }
   ],
   "source": [
    "from sklearn.ensemble import IsolationForest\n",
    "clf1=IsolationForest(n_estimators=50, max_samples=len(train_Pass), contamination=0.0116, \n",
    "                        max_features=0.9, bootstrap=False, n_jobs=-1, random_state=1, verbose=0,behaviour=\"new\")\n",
    "# %의 outlier 색출.\n",
    "clf1.fit(train_Pass)\n",
    "pred = clf1.predict(train_Pass)\n",
    "train_Pass['anomaly']=pred\n",
    "outliers_pass=train_Pass.loc[train_Pass['anomaly']==-1]\n",
    "outlier_index_pass=list(outliers_pass.index)\n",
    "print(outlier_index_pass)\n",
    "#Find the number of anomalies and normal points here points classified -1 are anomalous\n",
    "print(train_Pass['anomaly'].value_counts())"
   ]
  },
  {
   "cell_type": "code",
   "execution_count": null,
   "metadata": {
    "colab": {
     "base_uri": "https://localhost:8080/"
    },
    "id": "according-hamilton",
    "outputId": "a6c2c915-7860-482b-b4c5-9b4a85f2aebb"
   },
   "outputs": [
    {
     "name": "stdout",
     "output_type": "stream",
     "text": [
      "[38]\n",
      " 1    82\n",
      "-1     1\n",
      "Name: anomaly, dtype: int64\n"
     ]
    }
   ],
   "source": [
    "from sklearn.ensemble import IsolationForest\n",
    "clf1=IsolationForest(n_estimators=50, max_samples=len(train_Fail), contamination=0.009, \n",
    "                        max_features=0.9, bootstrap=False, n_jobs=-1, random_state=1, verbose=0,behaviour=\"new\")\n",
    "# %의 outlier 색출.\n",
    "clf1.fit(train_Fail)\n",
    "pred = clf1.predict(train_Fail)\n",
    "train_Fail['anomaly']=pred\n",
    "outliers_fail=train_Fail.loc[train_Fail['anomaly']==-1]\n",
    "outlier_index_fail=list(outliers_fail.index)\n",
    "print(outlier_index_fail)\n",
    "#Find the number of anomalies and normal points here points classified -1 are anomalous\n",
    "print(train_Fail['anomaly'].value_counts())"
   ]
  },
  {
   "cell_type": "code",
   "execution_count": null,
   "metadata": {
    "id": "pressing-british"
   },
   "outputs": [],
   "source": [
    "train_Pass_1=train_Pass[train_Pass['anomaly']==1].drop(\"anomaly\",axis=1)\n",
    "train_Pass_1[\"Pass/Fail\"]=0\n",
    "train_Fail_1=train_Fail[train_Fail['anomaly']==1].drop(\"anomaly\",axis=1)\n",
    "train_Fail_1[\"Pass/Fail\"]=1\n",
    "train_1=pd.concat([train_Pass_1,train_Fail_1],axis=0)\n",
    "y1_train =train_1['Pass/Fail']\n",
    "X1_train = train_1.drop('Pass/Fail',axis=1)"
   ]
  },
  {
   "cell_type": "code",
   "execution_count": null,
   "metadata": {
    "colab": {
     "base_uri": "https://localhost:8080/",
     "height": 248
    },
    "id": "incorporated-exercise",
    "outputId": "346cc7ec-03d0-40c1-c30f-a5ff2592658a"
   },
   "outputs": [
    {
     "data": {
      "image/png": "[encoded data removed]",
      "text/plain": [
       "<Figure size 432x288 with 1 Axes>"
      ]
     },
     "metadata": {
      "needs_background": "light",
      "tags": []
     },
     "output_type": "display_data"
    }
   ],
   "source": [
    "import matplotlib.pyplot as plt\n",
    "from sklearn.decomposition import PCA\n",
    "from sklearn.preprocessing import StandardScaler\n",
    "from mpl_toolkits.mplot3d import Axes3D\n",
    "pca = PCA(n_components=3) \n",
    "scaler = StandardScaler()\n",
    "#normalize the metrics\n",
    "X = scaler.fit_transform(train_Pass)\n",
    "X_reduce = pca.fit_transform(X)\n",
    "fig = plt.figure()\n",
    "ax = fig.add_subplot(111, projection='3d')\n",
    "ax.set_zlabel(\"x_composite_3\")\n",
    "# Plot the compressed data points\n",
    "ax.scatter(X_reduce[:, 0], X_reduce[:, 1], zs=X_reduce[:, 2], s=4, lw=1, label=\"inliers\",c=\"green\")\n",
    "# Plot x's for the ground truth outliers\n",
    "ax.scatter(X_reduce[outlier_index_pass,0],X_reduce[outlier_index_pass,1], X_reduce[outlier_index_pass,2],\n",
    "           lw=2, s=60, marker=\"x\", c=\"red\", label=\"outliers\")\n",
    "ax.legend()\n",
    "plt.show()"
   ]
  },
  {
   "cell_type": "code",
   "execution_count": null,
   "metadata": {
    "colab": {
     "base_uri": "https://localhost:8080/",
     "height": 248
    },
    "id": "referenced-genetics",
    "outputId": "50365bdc-2f1f-4a20-9452-5c38a3f459a7"
   },
   "outputs": [
    {
     "data": {
      "image/png": "[encoded data removed]",
      "text/plain": [
       "<Figure size 432x288 with 1 Axes>"
      ]
     },
     "metadata": {
      "needs_background": "light",
      "tags": []
     },
     "output_type": "display_data"
    }
   ],
   "source": [
    "import matplotlib.pyplot as plt\n",
    "from sklearn.decomposition import PCA\n",
    "from sklearn.preprocessing import StandardScaler\n",
    "from mpl_toolkits.mplot3d import Axes3D\n",
    "pca = PCA(n_components=3) \n",
    "scaler = StandardScaler()\n",
    "#normalize the metrics\n",
    "X = scaler.fit_transform(train_Fail)\n",
    "X_reduce = pca.fit_transform(X)\n",
    "fig = plt.figure()\n",
    "ax = fig.add_subplot(111, projection='3d')\n",
    "ax.set_zlabel(\"x_composite_3\")\n",
    "# Plot the compressed data points\n",
    "ax.scatter(X_reduce[:, 0], X_reduce[:, 1], zs=X_reduce[:, 2], s=4, lw=1, label=\"inliers\",c=\"green\")\n",
    "# Plot x's for the ground truth outliers\n",
    "ax.scatter(X_reduce[outlier_index_fail,0],X_reduce[outlier_index_fail,1], X_reduce[outlier_index_fail,2],\n",
    "           lw=2, s=60, marker=\"x\", c=\"red\", label=\"outliers\")\n",
    "ax.legend()\n",
    "plt.show()"
   ]
  },
  {
   "cell_type": "markdown",
   "metadata": {
    "id": "advisory-niagara"
   },
   "source": [
    "\n",
    "## feature selection 으로 변수 52개만 남김"
   ]
  },
  {
   "cell_type": "code",
   "execution_count": null,
   "metadata": {
    "colab": {
     "base_uri": "https://localhost:8080/"
    },
    "id": "E77vxq1AGdxV",
    "outputId": "ab17f313-7414-431d-fd84-89b3289d41fa"
   },
   "outputs": [
    {
     "name": "stdout",
     "output_type": "stream",
     "text": [
      "Collecting eli5\n",
      "\u001b[?25l  Downloading https://files.pythonhosted.org/packages/d1/54/04cab6e1c0ae535bec93f795d8403fdf6caf66fa5a6512263202dbb14ea6/eli5-0.11.0-py2.py3-none-any.whl (106kB)\n",
      "\r",
      "\u001b[K     |███                             | 10kB 12.1MB/s eta 0:00:01\r",
      "\u001b[K     |██████▏                         | 20kB 14.0MB/s eta 0:00:01\r",
      "\u001b[K     |█████████▎                      | 30kB 9.6MB/s eta 0:00:01\r",
      "\u001b[K     |████████████▍                   | 40kB 2.5MB/s eta 0:00:01\r",
      "\u001b[K     |███████████████▌                | 51kB 3.1MB/s eta 0:00:01\r",
      "\u001b[K     |██████████████████▌             | 61kB 3.6MB/s eta 0:00:01\r",
      "\u001b[K     |█████████████████████▋          | 71kB 4.0MB/s eta 0:00:01\r",
      "\u001b[K     |████████████████████████▊       | 81kB 4.5MB/s eta 0:00:01\r",
      "\u001b[K     |███████████████████████████▉    | 92kB 5.0MB/s eta 0:00:01\r",
      "\u001b[K     |███████████████████████████████ | 102kB 4.3MB/s eta 0:00:01\r",
      "\u001b[K     |████████████████████████████████| 112kB 4.3MB/s \n",
      "\u001b[?25hRequirement already satisfied: scikit-learn>=0.20 in /usr/local/lib/python3.7/dist-packages (from eli5) (0.22.2.post1)\n",
      "Requirement already satisfied: scipy in /usr/local/lib/python3.7/dist-packages (from eli5) (1.4.1)\n",
      "Requirement already satisfied: tabulate>=0.7.7 in /usr/local/lib/python3.7/dist-packages (from eli5) (0.8.9)\n",
      "Requirement already satisfied: attrs>16.0.0 in /usr/local/lib/python3.7/dist-packages (from eli5) (21.2.0)\n",
      "Requirement already satisfied: numpy>=1.9.0 in /usr/local/lib/python3.7/dist-packages (from eli5) (1.19.5)\n",
      "Requirement already satisfied: graphviz in /usr/local/lib/python3.7/dist-packages (from eli5) (0.10.1)\n",
      "Requirement already satisfied: jinja2 in /usr/local/lib/python3.7/dist-packages (from eli5) (2.11.3)\n",
      "Requirement already satisfied: six in /usr/local/lib/python3.7/dist-packages (from eli5) (1.15.0)\n",
      "Requirement already satisfied: joblib>=0.11 in /usr/local/lib/python3.7/dist-packages (from scikit-learn>=0.20->eli5) (1.0.1)\n",
      "Requirement already satisfied: MarkupSafe>=0.23 in /usr/local/lib/python3.7/dist-packages (from jinja2->eli5) (2.0.1)\n",
      "Installing collected packages: eli5\n",
      "Successfully installed eli5-0.11.0\n"
     ]
    }
   ],
   "source": [
    "pip install eli5"
   ]
  },
  {
   "cell_type": "code",
   "execution_count": null,
   "metadata": {
    "id": "extra-thesaurus"
   },
   "outputs": [],
   "source": [
    "import eli5 \n",
    "from eli5.sklearn import PermutationImportance \n",
    "from sklearn.ensemble import RandomForestClassifier\n",
    "\n",
    "\n",
    "# 미리 사용할 알고리즘을 fit 해야한다\n",
    "model = RandomForestClassifier(n_estimators =80,random_state=12).fit(X1_train, y1_train)\n",
    "perm = PermutationImportance(model, scoring = \"f1\", random_state = 12).fit(X1_train, y1_train) \n"
   ]
  },
  {
   "cell_type": "code",
   "execution_count": null,
   "metadata": {
    "id": "downtown-relevance"
   },
   "outputs": [],
   "source": [
    "temp=eli5.explain_weights_df(perm)"
   ]
  },
  {
   "cell_type": "code",
   "execution_count": null,
   "metadata": {
    "id": "seven-average"
   },
   "outputs": [],
   "source": [
    "important_cols_p=temp[temp['weight']>0]['feature'].map(lambda x: int(x.replace('x', ''))).values\n",
    "important_cols_p\n",
    "\n",
    "important_cols_p=X1_train.columns[important_cols_p].values"
   ]
  },
  {
   "cell_type": "code",
   "execution_count": null,
   "metadata": {
    "id": "owned-dayton"
   },
   "outputs": [],
   "source": [
    "df_final_2 = pd.concat([df_final[important_cols_p],df_final['Pass/Fail']],axis= 1)\n",
    "y = df_final_2['Pass/Fail']\n",
    "X2 = df_final_2.drop('Pass/Fail',axis=1)"
   ]
  },
  {
   "cell_type": "code",
   "execution_count": null,
   "metadata": {
    "id": "defensive-ebony"
   },
   "outputs": [],
   "source": [
    "X2_train, X2_test, y2_train, y2_test = train_test_split(X2,y,test_size = 0.2, random_state = 12, stratify = y)\n",
    "X2_train.reset_index(inplace=True)\n",
    "X2_test.reset_index(inplace=True)"
   ]
  },
  {
   "cell_type": "code",
   "execution_count": null,
   "metadata": {
    "id": "cubic-yemen"
   },
   "outputs": [],
   "source": [
    "X2_train.drop(\"index\",axis=1,inplace=True)\n",
    "X2_test.drop(\"index\",axis=1,inplace=True)"
   ]
  },
  {
   "cell_type": "code",
   "execution_count": null,
   "metadata": {
    "id": "bright-affair"
   },
   "outputs": [],
   "source": [
    "from sklearn.model_selection import train_test_split\n",
    "from sklearn.ensemble import RandomForestClassifier\n",
    "from sklearn.inspection import permutation_importance\n",
    "from sklearn.feature_selection import SelectFromModel\n",
    "#X1_train, X1_test, y1_train, y1_test = train_test_split(X1,y,test_size = 0.2, random_state = 12, stratify = y)\n",
    "sel = SelectFromModel(RandomForestClassifier(n_estimators = 100,random_state=12),threshold=0.005)\n",
    "sel.fit(X1_train, y1_train)\n",
    "selected_feat= X1_train.columns[(sel.get_support())]\n",
    "df_final_fs = pd.concat([df_final[selected_feat],df_final['Pass/Fail']],axis= 1)\n",
    "y = df_final_fs['Pass/Fail']\n",
    "X1 = df_final_fs.drop('Pass/Fail',axis=1)"
   ]
  },
  {
   "cell_type": "code",
   "execution_count": null,
   "metadata": {
    "id": "engaged-horizon"
   },
   "outputs": [],
   "source": [
    "unique_vals = df_final_2['Pass/Fail'].unique()  # [0, 1, 2]\n",
    "targets = [df_final_2.loc[df_final_fs['Pass/Fail'] == val] for val in unique_vals]"
   ]
  },
  {
   "cell_type": "code",
   "execution_count": null,
   "metadata": {
    "id": "QkHElpYNhw-f"
   },
   "outputs": [],
   "source": [
    "X_temp = pd.concat([X2_train,y2_train],axis= 1)"
   ]
  },
  {
   "cell_type": "markdown",
   "metadata": {
    "id": "Ewuqr0mFRTFD"
   },
   "source": [
    "## SMOTE"
   ]
  },
  {
   "cell_type": "markdown",
   "metadata": {
    "id": "Z9NvRIQeRyOL"
   },
   "source": [
    "SMOTE는 소수 클래스(Fail)에서 각 샘플의 knn을 찾아서 이웃과 이은 선에서 새로운 점을 무작위로 생성한다.\n",
    "\n",
    "이러면 샘플들 사이의 특성을 반영한 데이터를 생성할 수 있다."
   ]
  },
  {
   "cell_type": "code",
   "execution_count": null,
   "metadata": {
    "colab": {
     "base_uri": "https://localhost:8080/"
    },
    "id": "pPqAmiK7kfnp",
    "outputId": "e231b459-e870-484a-d23b-a46f801fdfc3"
   },
   "outputs": [
    {
     "name": "stdout",
     "output_type": "stream",
     "text": [
      "오버샘플링 전 : (1253, 42) (1253,)\n",
      "\n",
      "오버샘플링 후 : (2340, 42) (2340,)\n",
      "\n",
      "오버샘플링 전 레이블 분포 :\n",
      " 0    1170\n",
      "1      83\n",
      "Name: Pass/Fail, dtype: int64\n",
      "\n",
      "오버샘플링 후 레이블 분포 :\n",
      " 1    1170\n",
      "0    1170\n",
      "dtype: int64\n"
     ]
    }
   ],
   "source": [
    "from imblearn.over_sampling import SMOTE\n",
    "\n",
    "smote = SMOTE(random_state=12)\n",
    "# train 데이터에서 오버샘플링 시키기\n",
    "x_train_over, y_train_over = smote.fit_sample(X2_train, y2_train)\n",
    "\n",
    "# 오버샘플링 적용 후 데이터 레이블 개수 살펴보기\n",
    "print('오버샘플링 전 :', X2_train.shape, y2_train.shape)\n",
    "print()\n",
    "print('오버샘플링 후 :', x_train_over.shape, y_train_over.shape)\n",
    "print()\n",
    "print('오버샘플링 전 레이블 분포 :\\n', pd.Series(y2_train).value_counts())\n",
    "print()\n",
    "print('오버샘플링 후 레이블 분포 :\\n', pd.Series(y_train_over).value_counts())"
   ]
  },
  {
   "cell_type": "code",
   "execution_count": null,
   "metadata": {
    "colab": {
     "base_uri": "https://localhost:8080/",
     "height": 300
    },
    "id": "Q9jZQaYsXKaB",
    "outputId": "d8dd263e-6448-496f-d677-163075600208"
   },
   "outputs": [
    {
     "name": "stdout",
     "output_type": "stream",
     "text": [
      "Class=0, n=1170 (74.665%)\n",
      "Class=1, n=83 (5.297%)\n"
     ]
    },
    {
     "data": {
      "image/png": "[encoded data removed]",
      "text/plain": [
       "<Figure size 432x288 with 1 Axes>"
      ]
     },
     "metadata": {
      "needs_background": "light",
      "tags": []
     },
     "output_type": "display_data"
    }
   ],
   "source": [
    "from collections import Counter\n",
    "from matplotlib import pyplot\n",
    "\n",
    "counter = Counter(y2_train)\n",
    "for k,v in counter.items():\n",
    "    per = v / len(y) * 100\n",
    "    print('Class=%d, n=%d (%.3f%%)' % (k, v, per))\n",
    " \n",
    "# plot the distribution\n",
    "pyplot.bar(counter.keys(), counter.values())\n",
    "pyplot.show()"
   ]
  },
  {
   "cell_type": "code",
   "execution_count": null,
   "metadata": {
    "id": "zTWMK4PcZKfj"
   },
   "outputs": [],
   "source": []
  },
  {
   "cell_type": "code",
   "execution_count": null,
   "metadata": {
    "colab": {
     "base_uri": "https://localhost:8080/",
     "height": 300
    },
    "id": "qpw4X5_9W0IR",
    "outputId": "e2fbc962-f0d6-4879-c522-3d356be1c4b7"
   },
   "outputs": [
    {
     "name": "stdout",
     "output_type": "stream",
     "text": [
      "Class=0, n=1170 (74.665%)\n",
      "Class=1, n=1170 (74.665%)\n"
     ]
    },
    {
     "data": {
      "image/png": "[encoded data removed]",
      "text/plain": [
       "<Figure size 432x288 with 1 Axes>"
      ]
     },
     "metadata": {
      "needs_background": "light",
      "tags": []
     },
     "output_type": "display_data"
    }
   ],
   "source": [
    "from collections import Counter\n",
    "from matplotlib import pyplot\n",
    "\n",
    "counter = Counter(y_train_over)\n",
    "for k,v in counter.items():\n",
    "    per = v / len(y) * 100\n",
    "    print('Class=%d, n=%d (%.3f%%)' % (k, v, per))\n",
    " \n",
    "# plot the distribution\n",
    "pyplot.bar(counter.keys(), counter.values())\n",
    "pyplot.show()"
   ]
  },
  {
   "cell_type": "markdown",
   "metadata": {
    "id": "VwIPRQXMSflJ"
   },
   "source": [
    "## ADASYN "
   ]
  },
  {
   "cell_type": "markdown",
   "metadata": {
    "id": "yIkggF1ASrDU"
   },
   "source": [
    "SMOTE의 개선된 버전이다. 동일한 프로세스를 진행한 후 점들에 임의의 작은 값을 더해줌으로써 조금 더 사실적인 데이터가 생성된다. 즉 모든 표본이 약간 더 분산된다.\n",
    "\n"
   ]
  },
  {
   "cell_type": "code",
   "execution_count": null,
   "metadata": {
    "colab": {
     "base_uri": "https://localhost:8080/"
    },
    "id": "7Yw_6VYXnppj",
    "outputId": "1f9131d1-7a9d-4db9-ed0f-8fe49d49ff45"
   },
   "outputs": [
    {
     "name": "stdout",
     "output_type": "stream",
     "text": [
      "Original dataset shape Counter({0: 1170, 1: 83})\n",
      "Resampled dataset shape Counter({1: 1185, 0: 1170})\n",
      "오버샘플링 전 : (1253, 42) (1253,)\n",
      "\n",
      "오버샘플링 후 : (2355, 42) (2355,)\n",
      "\n",
      "오버샘플링 전 레이블 분포 :\n",
      " 0    1170\n",
      "1      83\n",
      "Name: Pass/Fail, dtype: int64\n",
      "\n",
      "오버샘플링 후 레이블 분포 :\n",
      " 1    1185\n",
      "0    1170\n",
      "dtype: int64\n"
     ]
    }
   ],
   "source": [
    "from collections import Counter\n",
    "from sklearn.datasets import make_classification\n",
    "from imblearn.over_sampling import ADASYN # doctest: +NORMALIZE_WHITESPACE\n",
    "\n",
    "print('Original dataset shape %s' % Counter(y2_train))\n",
    "\n",
    "ada = ADASYN(random_state=12)\n",
    "X_res, y_res = ada.fit_sample(X2_train, y2_train)\n",
    "print('Resampled dataset shape %s' % Counter(y_res))\n",
    "\n",
    "print('오버샘플링 전 :', X2_train.shape, y2_train.shape)\n",
    "print()\n",
    "print('오버샘플링 후 :', X_res.shape, y_res.shape)\n",
    "print()\n",
    "print('오버샘플링 전 레이블 분포 :\\n', pd.Series(y2_train).value_counts())\n",
    "print()\n",
    "print('오버샘플링 후 레이블 분포 :\\n', pd.Series(y_res).value_counts())"
   ]
  },
  {
   "cell_type": "code",
   "execution_count": null,
   "metadata": {
    "id": "MfcwICP1bgwU"
   },
   "outputs": [],
   "source": []
  }
 ],
 "metadata": {
  "colab": {
   "collapsed_sections": [],
   "name": "oversampling.ipynb",
   "provenance": []
  },
  "kernelspec": {
   "display_name": "Python 3",
   "language": "python",
   "name": "python3"
  },
  "language_info": {
   "codemirror_mode": {
    "name": "ipython",
    "version": 3
   },
   "file_extension": ".py",
   "mimetype": "text/x-python",
   "name": "python",
   "nbconvert_exporter": "python",
   "pygments_lexer": "ipython3",
   "version": "3.7.6"
  }
 },
 "nbformat": 4,
 "nbformat_minor": 1
}

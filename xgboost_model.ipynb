{
 "cells": [
  {
   "cell_type": "code",
   "execution_count": 1,
   "metadata": {
    "id": "jp1g_k-EWQsL"
   },
   "outputs": [],
   "source": [
    "import xgboost as xgb\n",
    "from xgboost import XGBClassifier\n",
    "from xgboost import plot_importance\n",
    "\n",
    "from sklearn import datasets\n",
    "import pandas as pd\n",
    "import numpy as np\n",
    "import seaborn as sns\n",
    "import matplotlib.pyplot as plt\n",
    "\n",
    "from sklearn.model_selection import train_test_split\n",
    "from sklearn.model_selection import GridSearchCV\n",
    "from sklearn.metrics import accuracy_score, precision_score, recall_score, roc_auc_score\n",
    "from sklearn.metrics import confusion_matrix\n",
    "from sklearn.preprocessing import MinMaxScaler, StandardScaler\n",
    "from sklearn.tree import DecisionTreeClassifier\n",
    "from sklearn.tree import export_graphviz\n",
    "from graphviz import Source\n",
    "from sklearn.metrics import f1_score, precision_recall_curve, roc_curve, make_scorer\n",
    "from sklearn.model_selection import GridSearchCV\n",
    "\n"
   ]
  },
  {
   "cell_type": "code",
   "execution_count": 2,
   "metadata": {
    "id": "EUZW_rVKWQsM"
   },
   "outputs": [],
   "source": [
    "df=pd.read_csv(\"secom_xgb.csv\")\n",
    "df.drop(\"Unnamed: 0\",axis=1,inplace=True)"
   ]
  },
  {
   "cell_type": "code",
   "execution_count": 3,
   "metadata": {
    "colab": {
     "base_uri": "https://localhost:8080/",
     "height": 488
    },
    "id": "PP9IaSB1WQsM",
    "outputId": "6d89295a-e1ae-42eb-e048-7c9f632a4290"
   },
   "outputs": [
    {
     "data": {
      "text/html": [
       "<div>\n",
       "<style scoped>\n",
       "    .dataframe tbody tr th:only-of-type {\n",
       "        vertical-align: middle;\n",
       "    }\n",
       "\n",
       "    .dataframe tbody tr th {\n",
       "        vertical-align: top;\n",
       "    }\n",
       "\n",
       "    .dataframe thead th {\n",
       "        text-align: right;\n",
       "    }\n",
       "</style>\n",
       "<table border=\"1\" class=\"dataframe\">\n",
       "  <thead>\n",
       "    <tr style=\"text-align: right;\">\n",
       "      <th></th>\n",
       "      <th>Pass/Fail</th>\n",
       "      <th>v0</th>\n",
       "      <th>v1</th>\n",
       "      <th>v10</th>\n",
       "      <th>v102</th>\n",
       "      <th>v103</th>\n",
       "      <th>v107</th>\n",
       "      <th>v113</th>\n",
       "      <th>v115</th>\n",
       "      <th>v117</th>\n",
       "      <th>...</th>\n",
       "      <th>v79</th>\n",
       "      <th>v8</th>\n",
       "      <th>v81</th>\n",
       "      <th>v84</th>\n",
       "      <th>v86</th>\n",
       "      <th>v87</th>\n",
       "      <th>v90</th>\n",
       "      <th>v96</th>\n",
       "      <th>v98</th>\n",
       "      <th>v99</th>\n",
       "    </tr>\n",
       "  </thead>\n",
       "  <tbody>\n",
       "    <tr>\n",
       "      <th>0</th>\n",
       "      <td>0</td>\n",
       "      <td>0.212406</td>\n",
       "      <td>0.758095</td>\n",
       "      <td>-0.330435</td>\n",
       "      <td>1.962264</td>\n",
       "      <td>1.638889</td>\n",
       "      <td>-2.545642</td>\n",
       "      <td>-0.029197</td>\n",
       "      <td>-0.040351</td>\n",
       "      <td>-0.102544</td>\n",
       "      <td>...</td>\n",
       "      <td>-0.387234</td>\n",
       "      <td>0.369772</td>\n",
       "      <td>-2.466145</td>\n",
       "      <td>-0.153846</td>\n",
       "      <td>-0.278261</td>\n",
       "      <td>-1.666667</td>\n",
       "      <td>-0.304514</td>\n",
       "      <td>-1.351145</td>\n",
       "      <td>0.978938</td>\n",
       "      <td>-0.421141</td>\n",
       "    </tr>\n",
       "    <tr>\n",
       "      <th>1</th>\n",
       "      <td>0</td>\n",
       "      <td>0.933964</td>\n",
       "      <td>-0.393315</td>\n",
       "      <td>-1.321739</td>\n",
       "      <td>-1.088534</td>\n",
       "      <td>1.555556</td>\n",
       "      <td>0.796287</td>\n",
       "      <td>-0.284672</td>\n",
       "      <td>-0.351688</td>\n",
       "      <td>0.102890</td>\n",
       "      <td>...</td>\n",
       "      <td>-1.557447</td>\n",
       "      <td>0.332700</td>\n",
       "      <td>-1.195242</td>\n",
       "      <td>0.430769</td>\n",
       "      <td>-0.550725</td>\n",
       "      <td>0.171171</td>\n",
       "      <td>-0.860221</td>\n",
       "      <td>2.770992</td>\n",
       "      <td>-2.303978</td>\n",
       "      <td>-0.265101</td>\n",
       "    </tr>\n",
       "    <tr>\n",
       "      <th>2</th>\n",
       "      <td>0</td>\n",
       "      <td>-0.257246</td>\n",
       "      <td>-0.221407</td>\n",
       "      <td>-0.321739</td>\n",
       "      <td>-1.011611</td>\n",
       "      <td>1.166667</td>\n",
       "      <td>-0.498195</td>\n",
       "      <td>0.729927</td>\n",
       "      <td>-0.749203</td>\n",
       "      <td>0.098996</td>\n",
       "      <td>...</td>\n",
       "      <td>2.842553</td>\n",
       "      <td>0.252852</td>\n",
       "      <td>1.513788</td>\n",
       "      <td>-0.430769</td>\n",
       "      <td>-0.067633</td>\n",
       "      <td>0.261261</td>\n",
       "      <td>-1.282571</td>\n",
       "      <td>0.174141</td>\n",
       "      <td>0.043601</td>\n",
       "      <td>-0.327181</td>\n",
       "    </tr>\n",
       "    <tr>\n",
       "      <th>3</th>\n",
       "      <td>0</td>\n",
       "      <td>0.226982</td>\n",
       "      <td>0.046122</td>\n",
       "      <td>-0.660870</td>\n",
       "      <td>1.013062</td>\n",
       "      <td>1.555556</td>\n",
       "      <td>-0.824136</td>\n",
       "      <td>-0.291971</td>\n",
       "      <td>0.820203</td>\n",
       "      <td>-0.141312</td>\n",
       "      <td>...</td>\n",
       "      <td>0.110638</td>\n",
       "      <td>0.394487</td>\n",
       "      <td>0.503754</td>\n",
       "      <td>0.184615</td>\n",
       "      <td>0.948792</td>\n",
       "      <td>0.243243</td>\n",
       "      <td>0.414045</td>\n",
       "      <td>1.022424</td>\n",
       "      <td>-1.651435</td>\n",
       "      <td>-0.280201</td>\n",
       "    </tr>\n",
       "    <tr>\n",
       "      <th>4</th>\n",
       "      <td>0</td>\n",
       "      <td>-0.729791</td>\n",
       "      <td>-0.769509</td>\n",
       "      <td>0.443478</td>\n",
       "      <td>0.387518</td>\n",
       "      <td>1.361111</td>\n",
       "      <td>-2.682826</td>\n",
       "      <td>-0.270073</td>\n",
       "      <td>-0.049727</td>\n",
       "      <td>0.092506</td>\n",
       "      <td>...</td>\n",
       "      <td>-0.144681</td>\n",
       "      <td>0.637833</td>\n",
       "      <td>0.584022</td>\n",
       "      <td>1.338462</td>\n",
       "      <td>-0.568116</td>\n",
       "      <td>0.117117</td>\n",
       "      <td>-1.987431</td>\n",
       "      <td>0.896469</td>\n",
       "      <td>-0.551792</td>\n",
       "      <td>-0.703020</td>\n",
       "    </tr>\n",
       "    <tr>\n",
       "      <th>...</th>\n",
       "      <td>...</td>\n",
       "      <td>...</td>\n",
       "      <td>...</td>\n",
       "      <td>...</td>\n",
       "      <td>...</td>\n",
       "      <td>...</td>\n",
       "      <td>...</td>\n",
       "      <td>...</td>\n",
       "      <td>...</td>\n",
       "      <td>...</td>\n",
       "      <td>...</td>\n",
       "      <td>...</td>\n",
       "      <td>...</td>\n",
       "      <td>...</td>\n",
       "      <td>...</td>\n",
       "      <td>...</td>\n",
       "      <td>...</td>\n",
       "      <td>...</td>\n",
       "      <td>...</td>\n",
       "      <td>...</td>\n",
       "      <td>...</td>\n",
       "    </tr>\n",
       "    <tr>\n",
       "      <th>1562</th>\n",
       "      <td>1</td>\n",
       "      <td>-0.260918</td>\n",
       "      <td>-0.060447</td>\n",
       "      <td>-0.026087</td>\n",
       "      <td>0.767779</td>\n",
       "      <td>-0.194444</td>\n",
       "      <td>-1.112945</td>\n",
       "      <td>-0.956204</td>\n",
       "      <td>1.215924</td>\n",
       "      <td>-1.132572</td>\n",
       "      <td>...</td>\n",
       "      <td>0.361702</td>\n",
       "      <td>0.630228</td>\n",
       "      <td>-0.191898</td>\n",
       "      <td>-0.753846</td>\n",
       "      <td>-0.786473</td>\n",
       "      <td>0.072072</td>\n",
       "      <td>0.733834</td>\n",
       "      <td>0.819179</td>\n",
       "      <td>-1.138071</td>\n",
       "      <td>-0.577181</td>\n",
       "    </tr>\n",
       "    <tr>\n",
       "      <th>1563</th>\n",
       "      <td>1</td>\n",
       "      <td>0.457747</td>\n",
       "      <td>0.193338</td>\n",
       "      <td>-0.539130</td>\n",
       "      <td>-0.635704</td>\n",
       "      <td>1.055556</td>\n",
       "      <td>-0.846828</td>\n",
       "      <td>0.583942</td>\n",
       "      <td>-0.407614</td>\n",
       "      <td>-0.402821</td>\n",
       "      <td>...</td>\n",
       "      <td>-1.442553</td>\n",
       "      <td>-0.523764</td>\n",
       "      <td>0.456932</td>\n",
       "      <td>-0.461538</td>\n",
       "      <td>0.879227</td>\n",
       "      <td>-0.090090</td>\n",
       "      <td>-0.423207</td>\n",
       "      <td>-0.724714</td>\n",
       "      <td>-0.863407</td>\n",
       "      <td>-0.671141</td>\n",
       "    </tr>\n",
       "    <tr>\n",
       "      <th>1564</th>\n",
       "      <td>1</td>\n",
       "      <td>-0.667594</td>\n",
       "      <td>-0.253669</td>\n",
       "      <td>-0.373913</td>\n",
       "      <td>-0.341074</td>\n",
       "      <td>-0.361111</td>\n",
       "      <td>-0.157813</td>\n",
       "      <td>0.153285</td>\n",
       "      <td>-0.269021</td>\n",
       "      <td>-0.181637</td>\n",
       "      <td>...</td>\n",
       "      <td>0.217021</td>\n",
       "      <td>-0.002852</td>\n",
       "      <td>0.831514</td>\n",
       "      <td>0.261538</td>\n",
       "      <td>0.206763</td>\n",
       "      <td>0.180180</td>\n",
       "      <td>0.094760</td>\n",
       "      <td>0.749046</td>\n",
       "      <td>-0.799852</td>\n",
       "      <td>0.500000</td>\n",
       "    </tr>\n",
       "    <tr>\n",
       "      <th>1565</th>\n",
       "      <td>1</td>\n",
       "      <td>1.795160</td>\n",
       "      <td>-0.818425</td>\n",
       "      <td>-0.530435</td>\n",
       "      <td>0.557329</td>\n",
       "      <td>0.416667</td>\n",
       "      <td>-1.129448</td>\n",
       "      <td>-0.532847</td>\n",
       "      <td>0.400953</td>\n",
       "      <td>-0.550104</td>\n",
       "      <td>...</td>\n",
       "      <td>-0.165957</td>\n",
       "      <td>1.384981</td>\n",
       "      <td>0.309774</td>\n",
       "      <td>-0.092308</td>\n",
       "      <td>0.805797</td>\n",
       "      <td>0.153153</td>\n",
       "      <td>0.000000</td>\n",
       "      <td>-0.366412</td>\n",
       "      <td>-0.178347</td>\n",
       "      <td>0.686242</td>\n",
       "    </tr>\n",
       "    <tr>\n",
       "      <th>1566</th>\n",
       "      <td>1</td>\n",
       "      <td>-1.207232</td>\n",
       "      <td>1.008269</td>\n",
       "      <td>-0.513043</td>\n",
       "      <td>4.326560</td>\n",
       "      <td>3.250000</td>\n",
       "      <td>0.287777</td>\n",
       "      <td>-0.138686</td>\n",
       "      <td>-0.231423</td>\n",
       "      <td>-1.259173</td>\n",
       "      <td>...</td>\n",
       "      <td>-0.604255</td>\n",
       "      <td>0.492395</td>\n",
       "      <td>0.423487</td>\n",
       "      <td>0.246154</td>\n",
       "      <td>0.154589</td>\n",
       "      <td>-2.135135</td>\n",
       "      <td>-0.980886</td>\n",
       "      <td>-3.009542</td>\n",
       "      <td>0.626185</td>\n",
       "      <td>14.855705</td>\n",
       "    </tr>\n",
       "  </tbody>\n",
       "</table>\n",
       "<p>1567 rows × 187 columns</p>\n",
       "</div>"
      ],
      "text/plain": [
       "      Pass/Fail        v0        v1       v10      v102      v103      v107  \\\n",
       "0             0  0.212406  0.758095 -0.330435  1.962264  1.638889 -2.545642   \n",
       "1             0  0.933964 -0.393315 -1.321739 -1.088534  1.555556  0.796287   \n",
       "2             0 -0.257246 -0.221407 -0.321739 -1.011611  1.166667 -0.498195   \n",
       "3             0  0.226982  0.046122 -0.660870  1.013062  1.555556 -0.824136   \n",
       "4             0 -0.729791 -0.769509  0.443478  0.387518  1.361111 -2.682826   \n",
       "...         ...       ...       ...       ...       ...       ...       ...   \n",
       "1562          1 -0.260918 -0.060447 -0.026087  0.767779 -0.194444 -1.112945   \n",
       "1563          1  0.457747  0.193338 -0.539130 -0.635704  1.055556 -0.846828   \n",
       "1564          1 -0.667594 -0.253669 -0.373913 -0.341074 -0.361111 -0.157813   \n",
       "1565          1  1.795160 -0.818425 -0.530435  0.557329  0.416667 -1.129448   \n",
       "1566          1 -1.207232  1.008269 -0.513043  4.326560  3.250000  0.287777   \n",
       "\n",
       "          v113      v115      v117  ...       v79        v8       v81  \\\n",
       "0    -0.029197 -0.040351 -0.102544  ... -0.387234  0.369772 -2.466145   \n",
       "1    -0.284672 -0.351688  0.102890  ... -1.557447  0.332700 -1.195242   \n",
       "2     0.729927 -0.749203  0.098996  ...  2.842553  0.252852  1.513788   \n",
       "3    -0.291971  0.820203 -0.141312  ...  0.110638  0.394487  0.503754   \n",
       "4    -0.270073 -0.049727  0.092506  ... -0.144681  0.637833  0.584022   \n",
       "...        ...       ...       ...  ...       ...       ...       ...   \n",
       "1562 -0.956204  1.215924 -1.132572  ...  0.361702  0.630228 -0.191898   \n",
       "1563  0.583942 -0.407614 -0.402821  ... -1.442553 -0.523764  0.456932   \n",
       "1564  0.153285 -0.269021 -0.181637  ...  0.217021 -0.002852  0.831514   \n",
       "1565 -0.532847  0.400953 -0.550104  ... -0.165957  1.384981  0.309774   \n",
       "1566 -0.138686 -0.231423 -1.259173  ... -0.604255  0.492395  0.423487   \n",
       "\n",
       "           v84       v86       v87       v90       v96       v98        v99  \n",
       "0    -0.153846 -0.278261 -1.666667 -0.304514 -1.351145  0.978938  -0.421141  \n",
       "1     0.430769 -0.550725  0.171171 -0.860221  2.770992 -2.303978  -0.265101  \n",
       "2    -0.430769 -0.067633  0.261261 -1.282571  0.174141  0.043601  -0.327181  \n",
       "3     0.184615  0.948792  0.243243  0.414045  1.022424 -1.651435  -0.280201  \n",
       "4     1.338462 -0.568116  0.117117 -1.987431  0.896469 -0.551792  -0.703020  \n",
       "...        ...       ...       ...       ...       ...       ...        ...  \n",
       "1562 -0.753846 -0.786473  0.072072  0.733834  0.819179 -1.138071  -0.577181  \n",
       "1563 -0.461538  0.879227 -0.090090 -0.423207 -0.724714 -0.863407  -0.671141  \n",
       "1564  0.261538  0.206763  0.180180  0.094760  0.749046 -0.799852   0.500000  \n",
       "1565 -0.092308  0.805797  0.153153  0.000000 -0.366412 -0.178347   0.686242  \n",
       "1566  0.246154  0.154589 -2.135135 -0.980886 -3.009542  0.626185  14.855705  \n",
       "\n",
       "[1567 rows x 187 columns]"
      ]
     },
     "execution_count": 3,
     "metadata": {},
     "output_type": "execute_result"
    }
   ],
   "source": [
    "df"
   ]
  },
  {
   "cell_type": "code",
   "execution_count": 4,
   "metadata": {
    "id": "QCyInnDwWQsN"
   },
   "outputs": [],
   "source": [
    "X = df.drop(\"Pass/Fail\", axis=1)\n",
    "y = df[\"Pass/Fail\"].values"
   ]
  },
  {
   "cell_type": "code",
   "execution_count": 5,
   "metadata": {
    "id": "yc4fFm8iWQsN"
   },
   "outputs": [],
   "source": [
    "X_train, X_test, y_train, y_test = train_test_split(X,y,test_size = 0.3, random_state = 42, stratify = y)"
   ]
  },
  {
   "cell_type": "markdown",
   "metadata": {
    "id": "qioxF_IiWQsO"
   },
   "source": [
    "## SMOTE"
   ]
  },
  {
   "cell_type": "code",
   "execution_count": 6,
   "metadata": {
    "colab": {
     "base_uri": "https://localhost:8080/"
    },
    "id": "4tFDWW4nWQsP",
    "outputId": "60877544-e23c-4eb9-85e7-73578d78a5c8"
   },
   "outputs": [
    {
     "name": "stdout",
     "output_type": "stream",
     "text": [
      "오버샘플링 전 : (1096, 186) (1096,)\n",
      "\n",
      "오버샘플링 후 : (2046, 186) (2046,)\n",
      "\n",
      "오버샘플링 전 레이블 분포 :\n",
      " 0    1023\n",
      "1      73\n",
      "dtype: int64\n",
      "\n",
      "오버샘플링 후 레이블 분포 :\n",
      " 1    1023\n",
      "0    1023\n",
      "dtype: int64\n"
     ]
    }
   ],
   "source": [
    "from imblearn.over_sampling import SMOTE\n",
    "\n",
    "smote = SMOTE(random_state=12)\n",
    "# train 데이터에서 오버샘플링 시키기\n",
    "x_train_over, y_train_over = smote.fit_resample(X_train, y_train)\n",
    "\n",
    "# 오버샘플링 적용 후 데이터 레이블 개수 살펴보기\n",
    "print('오버샘플링 전 :', X_train.shape, y_train.shape)\n",
    "print()\n",
    "print('오버샘플링 후 :', x_train_over.shape, y_train_over.shape)\n",
    "print()\n",
    "print('오버샘플링 전 레이블 분포 :\\n', pd.Series(y_train).value_counts())\n",
    "print()\n",
    "print('오버샘플링 후 레이블 분포 :\\n', pd.Series(y_train_over).value_counts())"
   ]
  },
  {
   "cell_type": "code",
   "execution_count": 7,
   "metadata": {
    "colab": {
     "base_uri": "https://localhost:8080/",
     "height": 300
    },
    "id": "tb2RT0aMWQsP",
    "outputId": "3b3e3558-bcf9-47af-de0c-2f5557d763d6"
   },
   "outputs": [
    {
     "name": "stdout",
     "output_type": "stream",
     "text": [
      "Class=0, n=1023 (65.284%)\n",
      "Class=1, n=73 (4.659%)\n"
     ]
    },
    {
     "data": {
      "image/png": "[encoded data removed]",
      "text/plain": [
       "<Figure size 432x288 with 1 Axes>"
      ]
     },
     "metadata": {
      "needs_background": "light"
     },
     "output_type": "display_data"
    }
   ],
   "source": [
    "from collections import Counter\n",
    "from matplotlib import pyplot\n",
    "\n",
    "counter = Counter(y_train)\n",
    "for k,v in counter.items():\n",
    "    per = v / len(y) * 100\n",
    "    print('Class=%d, n=%d (%.3f%%)' % (k, v, per))\n",
    " \n",
    "#plot the distribution\n",
    "pyplot.bar(counter.keys(), counter.values())\n",
    "pyplot.show()"
   ]
  },
  {
   "cell_type": "code",
   "execution_count": 8,
   "metadata": {
    "colab": {
     "base_uri": "https://localhost:8080/",
     "height": 300
    },
    "id": "GPX0u_riWQsP",
    "outputId": "5196e812-93d9-4a66-de63-a997e17ba4bf"
   },
   "outputs": [
    {
     "name": "stdout",
     "output_type": "stream",
     "text": [
      "Class=0, n=1023 (65.284%)\n",
      "Class=1, n=1023 (65.284%)\n"
     ]
    },
    {
     "data": {
      "image/png": "[encoded data removed]",
      "text/plain": [
       "<Figure size 432x288 with 1 Axes>"
      ]
     },
     "metadata": {
      "needs_background": "light"
     },
     "output_type": "display_data"
    }
   ],
   "source": [
    "from collections import Counter\n",
    "from matplotlib import pyplot\n",
    "\n",
    "counter = Counter(y_train_over)\n",
    "for k,v in counter.items():\n",
    "    per = v / len(y) * 100\n",
    "    print('Class=%d, n=%d (%.3f%%)' % (k, v, per))\n",
    " \n",
    "# plot the distribution\n",
    "pyplot.bar(counter.keys(), counter.values())\n",
    "pyplot.show()"
   ]
  },
  {
   "cell_type": "code",
   "execution_count": 9,
   "metadata": {
    "colab": {
     "base_uri": "https://localhost:8080/",
     "height": 488
    },
    "id": "3aX_pfJsEKII",
    "outputId": "6a8217f1-e1bd-4208-8b7a-95f02d231440"
   },
   "outputs": [
    {
     "data": {
      "text/html": [
       "<div>\n",
       "<style scoped>\n",
       "    .dataframe tbody tr th:only-of-type {\n",
       "        vertical-align: middle;\n",
       "    }\n",
       "\n",
       "    .dataframe tbody tr th {\n",
       "        vertical-align: top;\n",
       "    }\n",
       "\n",
       "    .dataframe thead th {\n",
       "        text-align: right;\n",
       "    }\n",
       "</style>\n",
       "<table border=\"1\" class=\"dataframe\">\n",
       "  <thead>\n",
       "    <tr style=\"text-align: right;\">\n",
       "      <th></th>\n",
       "      <th>Pass/Fail</th>\n",
       "      <th>v0</th>\n",
       "      <th>v1</th>\n",
       "      <th>v10</th>\n",
       "      <th>v102</th>\n",
       "      <th>v103</th>\n",
       "      <th>v107</th>\n",
       "      <th>v113</th>\n",
       "      <th>v115</th>\n",
       "      <th>v117</th>\n",
       "      <th>...</th>\n",
       "      <th>v79</th>\n",
       "      <th>v8</th>\n",
       "      <th>v81</th>\n",
       "      <th>v84</th>\n",
       "      <th>v86</th>\n",
       "      <th>v87</th>\n",
       "      <th>v90</th>\n",
       "      <th>v96</th>\n",
       "      <th>v98</th>\n",
       "      <th>v99</th>\n",
       "    </tr>\n",
       "  </thead>\n",
       "  <tbody>\n",
       "    <tr>\n",
       "      <th>0</th>\n",
       "      <td>0</td>\n",
       "      <td>0.343366</td>\n",
       "      <td>-1.674819</td>\n",
       "      <td>0.391304</td>\n",
       "      <td>0.152395</td>\n",
       "      <td>-1.361111</td>\n",
       "      <td>-0.738525</td>\n",
       "      <td>0.109489</td>\n",
       "      <td>-0.348598</td>\n",
       "      <td>0.380582</td>\n",
       "      <td>...</td>\n",
       "      <td>0.604255</td>\n",
       "      <td>0.191065</td>\n",
       "      <td>-0.205276</td>\n",
       "      <td>-0.507692</td>\n",
       "      <td>-0.544928</td>\n",
       "      <td>-2.306306</td>\n",
       "      <td>-0.796196</td>\n",
       "      <td>-2.175573</td>\n",
       "      <td>2.290676</td>\n",
       "      <td>-0.983221</td>\n",
       "    </tr>\n",
       "    <tr>\n",
       "      <th>1</th>\n",
       "      <td>0</td>\n",
       "      <td>0.906481</td>\n",
       "      <td>-0.490217</td>\n",
       "      <td>-0.408696</td>\n",
       "      <td>1.847605</td>\n",
       "      <td>-0.305556</td>\n",
       "      <td>-0.174317</td>\n",
       "      <td>-0.021898</td>\n",
       "      <td>0.123173</td>\n",
       "      <td>-0.494116</td>\n",
       "      <td>...</td>\n",
       "      <td>-0.425532</td>\n",
       "      <td>-0.397338</td>\n",
       "      <td>0.416798</td>\n",
       "      <td>0.553846</td>\n",
       "      <td>-0.790338</td>\n",
       "      <td>-0.054054</td>\n",
       "      <td>0.000000</td>\n",
       "      <td>-1.557252</td>\n",
       "      <td>1.736913</td>\n",
       "      <td>-0.562081</td>\n",
       "    </tr>\n",
       "    <tr>\n",
       "      <th>2</th>\n",
       "      <td>0</td>\n",
       "      <td>-0.337691</td>\n",
       "      <td>0.441533</td>\n",
       "      <td>0.478261</td>\n",
       "      <td>-0.211901</td>\n",
       "      <td>-1.388889</td>\n",
       "      <td>-0.230015</td>\n",
       "      <td>1.240876</td>\n",
       "      <td>-0.455494</td>\n",
       "      <td>-0.404638</td>\n",
       "      <td>...</td>\n",
       "      <td>-0.714894</td>\n",
       "      <td>1.386882</td>\n",
       "      <td>-1.028018</td>\n",
       "      <td>-0.923077</td>\n",
       "      <td>0.000000</td>\n",
       "      <td>-1.684685</td>\n",
       "      <td>-0.239398</td>\n",
       "      <td>0.661260</td>\n",
       "      <td>-0.095825</td>\n",
       "      <td>-0.624161</td>\n",
       "    </tr>\n",
       "    <tr>\n",
       "      <th>3</th>\n",
       "      <td>0</td>\n",
       "      <td>-1.402392</td>\n",
       "      <td>1.259026</td>\n",
       "      <td>-0.573913</td>\n",
       "      <td>0.573295</td>\n",
       "      <td>-1.055556</td>\n",
       "      <td>1.817432</td>\n",
       "      <td>0.240876</td>\n",
       "      <td>0.334313</td>\n",
       "      <td>-0.351419</td>\n",
       "      <td>...</td>\n",
       "      <td>-0.565957</td>\n",
       "      <td>0.281369</td>\n",
       "      <td>0.697734</td>\n",
       "      <td>0.384615</td>\n",
       "      <td>0.713043</td>\n",
       "      <td>-1.882883</td>\n",
       "      <td>1.128807</td>\n",
       "      <td>-0.270992</td>\n",
       "      <td>0.688262</td>\n",
       "      <td>-0.015101</td>\n",
       "    </tr>\n",
       "    <tr>\n",
       "      <th>4</th>\n",
       "      <td>0</td>\n",
       "      <td>0.654131</td>\n",
       "      <td>-1.408572</td>\n",
       "      <td>-0.608696</td>\n",
       "      <td>0.120464</td>\n",
       "      <td>0.472222</td>\n",
       "      <td>-0.064982</td>\n",
       "      <td>-0.795620</td>\n",
       "      <td>1.782400</td>\n",
       "      <td>-0.095794</td>\n",
       "      <td>...</td>\n",
       "      <td>0.042553</td>\n",
       "      <td>-0.230038</td>\n",
       "      <td>-0.031363</td>\n",
       "      <td>-0.923077</td>\n",
       "      <td>-0.885024</td>\n",
       "      <td>-1.684685</td>\n",
       "      <td>2.220649</td>\n",
       "      <td>-0.391221</td>\n",
       "      <td>-0.047789</td>\n",
       "      <td>0.140940</td>\n",
       "    </tr>\n",
       "    <tr>\n",
       "      <th>...</th>\n",
       "      <td>...</td>\n",
       "      <td>...</td>\n",
       "      <td>...</td>\n",
       "      <td>...</td>\n",
       "      <td>...</td>\n",
       "      <td>...</td>\n",
       "      <td>...</td>\n",
       "      <td>...</td>\n",
       "      <td>...</td>\n",
       "      <td>...</td>\n",
       "      <td>...</td>\n",
       "      <td>...</td>\n",
       "      <td>...</td>\n",
       "      <td>...</td>\n",
       "      <td>...</td>\n",
       "      <td>...</td>\n",
       "      <td>...</td>\n",
       "      <td>...</td>\n",
       "      <td>...</td>\n",
       "      <td>...</td>\n",
       "      <td>...</td>\n",
       "    </tr>\n",
       "    <tr>\n",
       "      <th>2041</th>\n",
       "      <td>1</td>\n",
       "      <td>-1.148796</td>\n",
       "      <td>0.086136</td>\n",
       "      <td>0.666200</td>\n",
       "      <td>1.202191</td>\n",
       "      <td>0.670732</td>\n",
       "      <td>-0.004881</td>\n",
       "      <td>0.196392</td>\n",
       "      <td>0.048856</td>\n",
       "      <td>0.300650</td>\n",
       "      <td>...</td>\n",
       "      <td>1.145926</td>\n",
       "      <td>-0.073215</td>\n",
       "      <td>0.703528</td>\n",
       "      <td>0.718000</td>\n",
       "      <td>-1.117004</td>\n",
       "      <td>-0.961883</td>\n",
       "      <td>-0.138981</td>\n",
       "      <td>0.257981</td>\n",
       "      <td>-0.339070</td>\n",
       "      <td>0.289165</td>\n",
       "    </tr>\n",
       "    <tr>\n",
       "      <th>2042</th>\n",
       "      <td>1</td>\n",
       "      <td>0.370864</td>\n",
       "      <td>-0.968888</td>\n",
       "      <td>-0.153139</td>\n",
       "      <td>-0.134507</td>\n",
       "      <td>0.666667</td>\n",
       "      <td>-0.675728</td>\n",
       "      <td>-0.098875</td>\n",
       "      <td>0.470890</td>\n",
       "      <td>0.080683</td>\n",
       "      <td>...</td>\n",
       "      <td>0.855100</td>\n",
       "      <td>-0.102271</td>\n",
       "      <td>-0.227902</td>\n",
       "      <td>-0.498594</td>\n",
       "      <td>0.004356</td>\n",
       "      <td>-2.111068</td>\n",
       "      <td>0.430071</td>\n",
       "      <td>-0.005890</td>\n",
       "      <td>-0.831733</td>\n",
       "      <td>-0.984004</td>\n",
       "    </tr>\n",
       "    <tr>\n",
       "      <th>2043</th>\n",
       "      <td>1</td>\n",
       "      <td>0.293850</td>\n",
       "      <td>0.166827</td>\n",
       "      <td>0.816235</td>\n",
       "      <td>-0.893341</td>\n",
       "      <td>0.592736</td>\n",
       "      <td>0.077420</td>\n",
       "      <td>0.067584</td>\n",
       "      <td>-2.194631</td>\n",
       "      <td>-0.263738</td>\n",
       "      <td>...</td>\n",
       "      <td>-0.711166</td>\n",
       "      <td>0.319964</td>\n",
       "      <td>1.997125</td>\n",
       "      <td>0.026980</td>\n",
       "      <td>-0.055465</td>\n",
       "      <td>-1.378220</td>\n",
       "      <td>-0.458775</td>\n",
       "      <td>-0.231287</td>\n",
       "      <td>0.120514</td>\n",
       "      <td>-1.114219</td>\n",
       "    </tr>\n",
       "    <tr>\n",
       "      <th>2044</th>\n",
       "      <td>1</td>\n",
       "      <td>-0.481706</td>\n",
       "      <td>-0.376694</td>\n",
       "      <td>0.427561</td>\n",
       "      <td>0.834918</td>\n",
       "      <td>0.968873</td>\n",
       "      <td>0.268253</td>\n",
       "      <td>-0.136101</td>\n",
       "      <td>0.125155</td>\n",
       "      <td>0.382853</td>\n",
       "      <td>...</td>\n",
       "      <td>1.761937</td>\n",
       "      <td>0.296497</td>\n",
       "      <td>-0.640529</td>\n",
       "      <td>-1.004322</td>\n",
       "      <td>-0.128996</td>\n",
       "      <td>0.189698</td>\n",
       "      <td>-0.218080</td>\n",
       "      <td>-0.184930</td>\n",
       "      <td>0.100319</td>\n",
       "      <td>0.248240</td>\n",
       "    </tr>\n",
       "    <tr>\n",
       "      <th>2045</th>\n",
       "      <td>1</td>\n",
       "      <td>-0.776479</td>\n",
       "      <td>-0.009818</td>\n",
       "      <td>0.292300</td>\n",
       "      <td>0.908254</td>\n",
       "      <td>0.837109</td>\n",
       "      <td>0.073284</td>\n",
       "      <td>-0.128680</td>\n",
       "      <td>-0.164413</td>\n",
       "      <td>0.254540</td>\n",
       "      <td>...</td>\n",
       "      <td>1.699176</td>\n",
       "      <td>0.295190</td>\n",
       "      <td>-0.563788</td>\n",
       "      <td>-0.669524</td>\n",
       "      <td>0.025125</td>\n",
       "      <td>0.238182</td>\n",
       "      <td>-0.342795</td>\n",
       "      <td>0.054237</td>\n",
       "      <td>-0.151830</td>\n",
       "      <td>0.288274</td>\n",
       "    </tr>\n",
       "  </tbody>\n",
       "</table>\n",
       "<p>2046 rows × 187 columns</p>\n",
       "</div>"
      ],
      "text/plain": [
       "      Pass/Fail        v0        v1       v10      v102      v103      v107  \\\n",
       "0             0  0.343366 -1.674819  0.391304  0.152395 -1.361111 -0.738525   \n",
       "1             0  0.906481 -0.490217 -0.408696  1.847605 -0.305556 -0.174317   \n",
       "2             0 -0.337691  0.441533  0.478261 -0.211901 -1.388889 -0.230015   \n",
       "3             0 -1.402392  1.259026 -0.573913  0.573295 -1.055556  1.817432   \n",
       "4             0  0.654131 -1.408572 -0.608696  0.120464  0.472222 -0.064982   \n",
       "...         ...       ...       ...       ...       ...       ...       ...   \n",
       "2041          1 -1.148796  0.086136  0.666200  1.202191  0.670732 -0.004881   \n",
       "2042          1  0.370864 -0.968888 -0.153139 -0.134507  0.666667 -0.675728   \n",
       "2043          1  0.293850  0.166827  0.816235 -0.893341  0.592736  0.077420   \n",
       "2044          1 -0.481706 -0.376694  0.427561  0.834918  0.968873  0.268253   \n",
       "2045          1 -0.776479 -0.009818  0.292300  0.908254  0.837109  0.073284   \n",
       "\n",
       "          v113      v115      v117  ...       v79        v8       v81  \\\n",
       "0     0.109489 -0.348598  0.380582  ...  0.604255  0.191065 -0.205276   \n",
       "1    -0.021898  0.123173 -0.494116  ... -0.425532 -0.397338  0.416798   \n",
       "2     1.240876 -0.455494 -0.404638  ... -0.714894  1.386882 -1.028018   \n",
       "3     0.240876  0.334313 -0.351419  ... -0.565957  0.281369  0.697734   \n",
       "4    -0.795620  1.782400 -0.095794  ...  0.042553 -0.230038 -0.031363   \n",
       "...        ...       ...       ...  ...       ...       ...       ...   \n",
       "2041  0.196392  0.048856  0.300650  ...  1.145926 -0.073215  0.703528   \n",
       "2042 -0.098875  0.470890  0.080683  ...  0.855100 -0.102271 -0.227902   \n",
       "2043  0.067584 -2.194631 -0.263738  ... -0.711166  0.319964  1.997125   \n",
       "2044 -0.136101  0.125155  0.382853  ...  1.761937  0.296497 -0.640529   \n",
       "2045 -0.128680 -0.164413  0.254540  ...  1.699176  0.295190 -0.563788   \n",
       "\n",
       "           v84       v86       v87       v90       v96       v98       v99  \n",
       "0    -0.507692 -0.544928 -2.306306 -0.796196 -2.175573  2.290676 -0.983221  \n",
       "1     0.553846 -0.790338 -0.054054  0.000000 -1.557252  1.736913 -0.562081  \n",
       "2    -0.923077  0.000000 -1.684685 -0.239398  0.661260 -0.095825 -0.624161  \n",
       "3     0.384615  0.713043 -1.882883  1.128807 -0.270992  0.688262 -0.015101  \n",
       "4    -0.923077 -0.885024 -1.684685  2.220649 -0.391221 -0.047789  0.140940  \n",
       "...        ...       ...       ...       ...       ...       ...       ...  \n",
       "2041  0.718000 -1.117004 -0.961883 -0.138981  0.257981 -0.339070  0.289165  \n",
       "2042 -0.498594  0.004356 -2.111068  0.430071 -0.005890 -0.831733 -0.984004  \n",
       "2043  0.026980 -0.055465 -1.378220 -0.458775 -0.231287  0.120514 -1.114219  \n",
       "2044 -1.004322 -0.128996  0.189698 -0.218080 -0.184930  0.100319  0.248240  \n",
       "2045 -0.669524  0.025125  0.238182 -0.342795  0.054237 -0.151830  0.288274  \n",
       "\n",
       "[2046 rows x 187 columns]"
      ]
     },
     "execution_count": 9,
     "metadata": {},
     "output_type": "execute_result"
    }
   ],
   "source": [
    "df=pd.DataFrame(y_train_over)\n",
    "df.columns = ['Pass/Fail']\n",
    "df=pd.concat([df,x_train_over], axis=1)\n",
    "df"
   ]
  },
  {
   "cell_type": "code",
   "execution_count": null,
   "metadata": {
    "id": "tQDm29qnB1Rk"
   },
   "outputs": [],
   "source": []
  },
  {
   "cell_type": "code",
   "execution_count": 10,
   "metadata": {
    "colab": {
     "base_uri": "https://localhost:8080/"
    },
    "id": "iyjQYA1cknY0",
    "outputId": "facbd57f-0f34-43eb-f418-e3ec1a4cbc11"
   },
   "outputs": [
    {
     "name": "stdout",
     "output_type": "stream",
     "text": [
      "최적 하이퍼 파라미터:  {'learning_rate': 0.07, 'max_depth': 4, 'n_estimators': 150}\n",
      "최고 예측 정확도: 0.9951\n"
     ]
    }
   ],
   "source": [
    "xgb = XGBClassifier(random_state=42)\n",
    "xgb_parameters = {'n_estimators':[120, 150, 170], 'learning_rate':[0.07, 0.1,0.15], 'max_depth':[2, 3, 4]}\n",
    "xgb_grid = GridSearchCV(xgb, param_grid=xgb_parameters,scoring=make_scorer(recall_score),  cv=3, refit=True)\n",
    "xgb_grid.fit(x_train_over, y_train_over)\n",
    "print('최적 하이퍼 파라미터: ', xgb_grid.best_params_)\n",
    "print('최고 예측 정확도: {:.4f}'.format(xgb_grid.best_score_))"
   ]
  },
  {
   "cell_type": "code",
   "execution_count": 11,
   "metadata": {
    "colab": {
     "base_uri": "https://localhost:8080/"
    },
    "id": "_w8rJj6FZgCM",
    "outputId": "c811958c-d870-4fbf-f673-611c4865da2b"
   },
   "outputs": [
    {
     "name": "stdout",
     "output_type": "stream",
     "text": [
      "[0]\tvalidation_0-logloss:0.68624\n",
      "[1]\tvalidation_0-logloss:0.68085\n",
      "[2]\tvalidation_0-logloss:0.67531\n",
      "[3]\tvalidation_0-logloss:0.67424\n",
      "[4]\tvalidation_0-logloss:0.66496\n",
      "[5]\tvalidation_0-logloss:0.65587\n",
      "[6]\tvalidation_0-logloss:0.65450\n",
      "[7]\tvalidation_0-logloss:0.65716\n",
      "[8]\tvalidation_0-logloss:0.65230\n",
      "[9]\tvalidation_0-logloss:0.64675\n",
      "[10]\tvalidation_0-logloss:0.63967\n",
      "[11]\tvalidation_0-logloss:0.64112\n",
      "[12]\tvalidation_0-logloss:0.63021\n",
      "[13]\tvalidation_0-logloss:0.62208\n",
      "[14]\tvalidation_0-logloss:0.61071\n"
     ]
    },
    {
     "name": "stderr",
     "output_type": "stream",
     "text": [
      "C:\\Users\\82104\\anaconda3\\lib\\site-packages\\xgboost\\sklearn.py:797: UserWarning: `eval_metric` in `fit` method is deprecated for better compatibility with scikit-learn, use `eval_metric` in constructor or`set_params` instead.\n",
      "  UserWarning,\n",
      "C:\\Users\\82104\\anaconda3\\lib\\site-packages\\xgboost\\sklearn.py:797: UserWarning: `early_stopping_rounds` in `fit` method is deprecated for better compatibility with scikit-learn, use `early_stopping_rounds` in constructor or`set_params` instead.\n",
      "  UserWarning,\n"
     ]
    },
    {
     "name": "stdout",
     "output_type": "stream",
     "text": [
      "[15]\tvalidation_0-logloss:0.61123\n",
      "[16]\tvalidation_0-logloss:0.61055\n",
      "[17]\tvalidation_0-logloss:0.61684\n",
      "[18]\tvalidation_0-logloss:0.60515\n",
      "[19]\tvalidation_0-logloss:0.60103\n",
      "[20]\tvalidation_0-logloss:0.60510\n",
      "[21]\tvalidation_0-logloss:0.60825\n",
      "[22]\tvalidation_0-logloss:0.60592\n",
      "[23]\tvalidation_0-logloss:0.59924\n",
      "[24]\tvalidation_0-logloss:0.60152\n",
      "[25]\tvalidation_0-logloss:0.59383\n",
      "[26]\tvalidation_0-logloss:0.59054\n",
      "[27]\tvalidation_0-logloss:0.58622\n",
      "[28]\tvalidation_0-logloss:0.57931\n",
      "[29]\tvalidation_0-logloss:0.58277\n",
      "[30]\tvalidation_0-logloss:0.57678\n",
      "[31]\tvalidation_0-logloss:0.57248\n",
      "[32]\tvalidation_0-logloss:0.57395\n",
      "[33]\tvalidation_0-logloss:0.57560\n",
      "[34]\tvalidation_0-logloss:0.57411\n",
      "[35]\tvalidation_0-logloss:0.56643\n",
      "[36]\tvalidation_0-logloss:0.56675\n",
      "[37]\tvalidation_0-logloss:0.56142\n",
      "[38]\tvalidation_0-logloss:0.56296\n",
      "[39]\tvalidation_0-logloss:0.55529\n",
      "[40]\tvalidation_0-logloss:0.55926\n",
      "[41]\tvalidation_0-logloss:0.55822\n",
      "[42]\tvalidation_0-logloss:0.55751\n",
      "[43]\tvalidation_0-logloss:0.55599\n",
      "[44]\tvalidation_0-logloss:0.54843\n",
      "[45]\tvalidation_0-logloss:0.54683\n",
      "[46]\tvalidation_0-logloss:0.54659\n",
      "[47]\tvalidation_0-logloss:0.53957\n",
      "[48]\tvalidation_0-logloss:0.53601\n",
      "[49]\tvalidation_0-logloss:0.53322\n",
      "[50]\tvalidation_0-logloss:0.52787\n",
      "[51]\tvalidation_0-logloss:0.52498\n",
      "[52]\tvalidation_0-logloss:0.52547\n",
      "[53]\tvalidation_0-logloss:0.52749\n",
      "[54]\tvalidation_0-logloss:0.52463\n",
      "[55]\tvalidation_0-logloss:0.52667\n",
      "[56]\tvalidation_0-logloss:0.52905\n",
      "[57]\tvalidation_0-logloss:0.52918\n",
      "[58]\tvalidation_0-logloss:0.52374\n",
      "[59]\tvalidation_0-logloss:0.52403\n",
      "[60]\tvalidation_0-logloss:0.52253\n",
      "[61]\tvalidation_0-logloss:0.52487\n",
      "[62]\tvalidation_0-logloss:0.51884\n",
      "[63]\tvalidation_0-logloss:0.52134\n",
      "[64]\tvalidation_0-logloss:0.52572\n",
      "[65]\tvalidation_0-logloss:0.52759\n",
      "[66]\tvalidation_0-logloss:0.52642\n",
      "[67]\tvalidation_0-logloss:0.51865\n",
      "[68]\tvalidation_0-logloss:0.52026\n",
      "[69]\tvalidation_0-logloss:0.51931\n",
      "[70]\tvalidation_0-logloss:0.51884\n",
      "[71]\tvalidation_0-logloss:0.52150\n",
      "[72]\tvalidation_0-logloss:0.51512\n",
      "[73]\tvalidation_0-logloss:0.51149\n",
      "[74]\tvalidation_0-logloss:0.51418\n",
      "[75]\tvalidation_0-logloss:0.51175\n",
      "[76]\tvalidation_0-logloss:0.51474\n",
      "[77]\tvalidation_0-logloss:0.50743\n",
      "[78]\tvalidation_0-logloss:0.50618\n",
      "[79]\tvalidation_0-logloss:0.50440\n",
      "[80]\tvalidation_0-logloss:0.50616\n",
      "[81]\tvalidation_0-logloss:0.51162\n",
      "[82]\tvalidation_0-logloss:0.50991\n",
      "[83]\tvalidation_0-logloss:0.51390\n",
      "[84]\tvalidation_0-logloss:0.50370\n",
      "[85]\tvalidation_0-logloss:0.49963\n",
      "[86]\tvalidation_0-logloss:0.49613\n",
      "[87]\tvalidation_0-logloss:0.49015\n",
      "[88]\tvalidation_0-logloss:0.48911\n",
      "[89]\tvalidation_0-logloss:0.48940\n",
      "[90]\tvalidation_0-logloss:0.49013\n",
      "[91]\tvalidation_0-logloss:0.48533\n",
      "[92]\tvalidation_0-logloss:0.48568\n",
      "[93]\tvalidation_0-logloss:0.48590\n",
      "[94]\tvalidation_0-logloss:0.48604\n",
      "[95]\tvalidation_0-logloss:0.48369\n",
      "[96]\tvalidation_0-logloss:0.48512\n",
      "[97]\tvalidation_0-logloss:0.48244\n",
      "[98]\tvalidation_0-logloss:0.48185\n",
      "[99]\tvalidation_0-logloss:0.48515\n",
      "[100]\tvalidation_0-logloss:0.48430\n",
      "[101]\tvalidation_0-logloss:0.48548\n",
      "[102]\tvalidation_0-logloss:0.48299\n",
      "[103]\tvalidation_0-logloss:0.47969\n",
      "[104]\tvalidation_0-logloss:0.48161\n",
      "[105]\tvalidation_0-logloss:0.48392\n",
      "[106]\tvalidation_0-logloss:0.48660\n",
      "[107]\tvalidation_0-logloss:0.48616\n",
      "[108]\tvalidation_0-logloss:0.47861\n",
      "[109]\tvalidation_0-logloss:0.47975\n",
      "[110]\tvalidation_0-logloss:0.48051\n",
      "[111]\tvalidation_0-logloss:0.47568\n",
      "[112]\tvalidation_0-logloss:0.47281\n",
      "[113]\tvalidation_0-logloss:0.46895\n",
      "[114]\tvalidation_0-logloss:0.47406\n",
      "[115]\tvalidation_0-logloss:0.47341\n",
      "[116]\tvalidation_0-logloss:0.47365\n",
      "[117]\tvalidation_0-logloss:0.47291\n",
      "[118]\tvalidation_0-logloss:0.47513\n",
      "[119]\tvalidation_0-logloss:0.47478\n",
      "[120]\tvalidation_0-logloss:0.46771\n",
      "[121]\tvalidation_0-logloss:0.46362\n",
      "[122]\tvalidation_0-logloss:0.46093\n",
      "[123]\tvalidation_0-logloss:0.45722\n",
      "[124]\tvalidation_0-logloss:0.45691\n",
      "[125]\tvalidation_0-logloss:0.45593\n",
      "[126]\tvalidation_0-logloss:0.45667\n",
      "[127]\tvalidation_0-logloss:0.45899\n",
      "[128]\tvalidation_0-logloss:0.45736\n",
      "[129]\tvalidation_0-logloss:0.45757\n",
      "[130]\tvalidation_0-logloss:0.45532\n",
      "[131]\tvalidation_0-logloss:0.45641\n",
      "[132]\tvalidation_0-logloss:0.45356\n",
      "[133]\tvalidation_0-logloss:0.45483\n",
      "[134]\tvalidation_0-logloss:0.45350\n",
      "[135]\tvalidation_0-logloss:0.45609\n",
      "[136]\tvalidation_0-logloss:0.45010\n",
      "[137]\tvalidation_0-logloss:0.45375\n",
      "[138]\tvalidation_0-logloss:0.45563\n",
      "[139]\tvalidation_0-logloss:0.45631\n",
      "[140]\tvalidation_0-logloss:0.45635\n",
      "[141]\tvalidation_0-logloss:0.45466\n",
      "[142]\tvalidation_0-logloss:0.45444\n",
      "[143]\tvalidation_0-logloss:0.45282\n",
      "[144]\tvalidation_0-logloss:0.45459\n",
      "[145]\tvalidation_0-logloss:0.45593\n"
     ]
    }
   ],
   "source": [
    "evals = [(X_test, y_test)]\n",
    "xgb_wrapper = XGBClassifier(**xgb_grid.best_params_,min_child_weight=10,gamma=10,subsample=0.1,colsample_bytree=0.1)\n",
    "xgb_wrapper.fit(x_train_over , y_train_over,  early_stopping_rounds=10, eval_set = evals, eval_metric=\"logloss\",  verbose=True)\n",
    "xgb_wrapper.fit(x_train_over, y_train_over)\n",
    "\n",
    "preds = xgb_wrapper.predict(X_test) \n",
    "pred_proba = xgb_wrapper.predict_proba(X_test)[:,1]"
   ]
  },
  {
   "cell_type": "code",
   "execution_count": 13,
   "metadata": {
    "colab": {
     "base_uri": "https://localhost:8080/",
     "height": 747
    },
    "id": "gAj_3raUdQiB",
    "outputId": "2bb56d71-173d-4fc0-e3c3-652baff9bd6a"
   },
   "outputs": [
    {
     "data": {
      "text/plain": [
       "<matplotlib.axes._subplots.AxesSubplot at 0x18c367f3a48>"
      ]
     },
     "execution_count": 13,
     "metadata": {},
     "output_type": "execute_result"
    },
    {
     "data": {
      "image/png": "[encoded data removed]",
      "text/plain": [
       "<Figure size 720x864 with 1 Axes>"
      ]
     },
     "metadata": {
      "needs_background": "light"
     },
     "output_type": "display_data"
    }
   ],
   "source": [
    "from xgboost import plot_importance\n",
    "import matplotlib.pyplot as plt\n",
    "%matplotlib inline\n",
    "\n",
    "fig, ax = plt.subplots(figsize=(10, 12)) \n",
    "plot_importance(xgb_wrapper, ax=ax)\n",
    "#피처의 중요도를 시각화하는 모듈"
   ]
  },
  {
   "cell_type": "code",
   "execution_count": 14,
   "metadata": {
    "colab": {
     "base_uri": "https://localhost:8080/"
    },
    "id": "ux-Pn71HZ2X4",
    "outputId": "feb39621-a48e-49b3-841b-d7172152070c"
   },
   "outputs": [
    {
     "name": "stdout",
     "output_type": "stream",
     "text": [
      " 정 확 도 : 0.8323\n"
     ]
    }
   ],
   "source": [
    "print(\" 정 확 도 : {0:.4f}\".format(accuracy_score(y_test,preds)))"
   ]
  },
  {
   "cell_type": "code",
   "execution_count": 15,
   "metadata": {
    "colab": {
     "base_uri": "https://localhost:8080/",
     "height": 541
    },
    "id": "34njeProVvq9",
    "outputId": "393db9a2-1103-4064-8fdb-fa7a4d6378da"
   },
   "outputs": [
    {
     "data": {
      "image/png": "[encoded data removed]",
      "text/plain": [
       "<Figure size 432x288 with 2 Axes>"
      ]
     },
     "metadata": {
      "needs_background": "light"
     },
     "output_type": "display_data"
    },
    {
     "data": {
      "image/png": "[encoded data removed]",
      "text/plain": [
       "<Figure size 432x288 with 2 Axes>"
      ]
     },
     "metadata": {
      "needs_background": "light"
     },
     "output_type": "display_data"
    }
   ],
   "source": [
    "\n",
    "from sklearn.metrics import confusion_matrix, ConfusionMatrixDisplay\n",
    "cm = confusion_matrix(y_test,preds, labels=xgb_wrapper.classes_)\n",
    "disp = ConfusionMatrixDisplay(confusion_matrix=cm,\n",
    "                              display_labels=xgb_wrapper.classes_)\n",
    "disp = disp.plot(cmap=plt.cm.Blues,values_format='g')\n",
    "disp.plot()\n",
    "plt.show()"
   ]
  },
  {
   "cell_type": "code",
   "execution_count": 16,
   "metadata": {
    "colab": {
     "base_uri": "https://localhost:8080/",
     "height": 612
    },
    "id": "1LcgCZWFWnw9",
    "outputId": "b196c946-8935-45c1-f82d-7377c4c0ff65"
   },
   "outputs": [
    {
     "name": "stdout",
     "output_type": "stream",
     "text": [
      "confusion matrix=\n",
      " [[378  62]\n",
      " [ 17  14]]\n",
      "trainset 정확도:  0.8641251221896383\n",
      "testset 정확도:  0.832271762208068\n",
      "accuracy=  0.832271762208068\n",
      "precision=  0.18421052631578946\n",
      "recall=  0.45161290322580644\n",
      "f1 score=  0.26168224299065423\n",
      "교차 검증=  0.9341993281075028\n",
      "              precision    recall  f1-score   support\n",
      "\n",
      "           0       0.96      0.86      0.91       440\n",
      "           1       0.18      0.45      0.26        31\n",
      "\n",
      "    accuracy                           0.83       471\n",
      "   macro avg       0.57      0.66      0.58       471\n",
      "weighted avg       0.91      0.83      0.86       471\n",
      "\n"
     ]
    },
    {
     "data": {
      "text/plain": [
       "<matplotlib.axes._subplots.AxesSubplot at 0x18c34411d08>"
      ]
     },
     "execution_count": 16,
     "metadata": {},
     "output_type": "execute_result"
    },
    {
     "data": {
      "image/png": "[encoded data removed]",
      "text/plain": [
       "<Figure size 432x288 with 2 Axes>"
      ]
     },
     "metadata": {
      "needs_background": "light"
     },
     "output_type": "display_data"
    }
   ],
   "source": [
    "from sklearn.metrics import confusion_matrix, ConfusionMatrixDisplay\n",
    "from sklearn.model_selection import cross_val_score\n",
    "from sklearn.metrics import classification_report\n",
    "print('confusion matrix=\\n',confusion_matrix(y_true=y_test,y_pred=preds))\n",
    "print('trainset 정확도: ',xgb_wrapper.score(x_train_over,y_train_over)) #trainset 정확도\n",
    "print('testset 정확도: ',xgb_wrapper.score(X_test,y_test)) #testset 정확도\n",
    "print('accuracy= ',accuracy_score(y_true=y_test,y_pred=preds))\n",
    "print('precision= ',precision_score(y_true=y_test,y_pred=preds))\n",
    "print('recall= ',recall_score(y_true=y_test,y_pred=preds))\n",
    "print('f1 score= ',f1_score(y_true=y_test,y_pred=preds))\n",
    "print('교차 검증= ',cross_val_score(xgb_wrapper,X_test,y_test).mean())\n",
    "print(classification_report(y_test,preds))\n",
    "heat=pd.DataFrame(confusion_matrix(y_test,preds))\n",
    "sns.heatmap(heat,annot=True)"
   ]
  },
  {
   "cell_type": "code",
   "execution_count": 17,
   "metadata": {
    "colab": {
     "base_uri": "https://localhost:8080/"
    },
    "id": "T5fz679NdxIp",
    "outputId": "d2aa018e-3dcb-4bde-945b-4911b06ebea8"
   },
   "outputs": [
    {
     "name": "stdout",
     "output_type": "stream",
     "text": [
      "              precision    recall  f1-score   support\n",
      "\n",
      "           0       0.96      0.86      0.91       440\n",
      "           1       0.18      0.45      0.26        31\n",
      "\n",
      "    accuracy                           0.83       471\n",
      "   macro avg       0.57      0.66      0.58       471\n",
      "weighted avg       0.91      0.83      0.86       471\n",
      "\n"
     ]
    }
   ],
   "source": [
    "from sklearn.metrics import classification_report\n",
    "y_pred = xgb_wrapper.predict(X_test)\n",
    "accuracy_score(y_test, y_pred)\n",
    "\n",
    "print(classification_report(y_test, y_pred))"
   ]
  },
  {
   "cell_type": "code",
   "execution_count": 18,
   "metadata": {
    "id": "kwO8_6LBXYnI"
   },
   "outputs": [],
   "source": [
    "fpr,tpr,thresholds=roc_curve(y_test,preds,pos_label=1)"
   ]
  },
  {
   "cell_type": "code",
   "execution_count": 19,
   "metadata": {
    "colab": {
     "base_uri": "https://localhost:8080/",
     "height": 300
    },
    "id": "j0Y2VKD1XbUJ",
    "outputId": "e4c1cdac-80b8-42c1-b6ab-7c55a31c0fac"
   },
   "outputs": [
    {
     "name": "stdout",
     "output_type": "stream",
     "text": [
      "Auc: 0.6553519061583578\n"
     ]
    },
    {
     "data": {
      "image/png": "[encoded data removed]",
      "text/plain": [
       "<Figure size 432x288 with 1 Axes>"
      ]
     },
     "metadata": {
      "needs_background": "light"
     },
     "output_type": "display_data"
    }
   ],
   "source": [
    "def plot_roc_curve(fpr,tpr):\n",
    "    plt.plot(fpr, tpr, linewidth = 2)\n",
    "    plt.plot([0,1], [0,1], 'k--')\n",
    "    plt.axis([0,1,0,1])\n",
    "    plt.xlabel('False Positive Rate')\n",
    "    plt.ylabel('True Positive Rate')\n",
    "\n",
    "plot_roc_curve(fpr, tpr)\n",
    "auc=np.trapz(tpr,fpr)\n",
    "print(\"Auc:\",auc)"
   ]
  },
  {
   "cell_type": "code",
   "execution_count": 20,
   "metadata": {
    "colab": {
     "base_uri": "https://localhost:8080/",
     "height": 295
    },
    "id": "jRvbg-YWCbsQ",
    "outputId": "5a018e0b-3e8d-4814-cad7-4ada1828c878"
   },
   "outputs": [
    {
     "data": {
      "image/png": "[encoded data removed]",
      "text/plain": [
       "<Figure size 432x288 with 1 Axes>"
      ]
     },
     "metadata": {
      "needs_background": "light"
     },
     "output_type": "display_data"
    }
   ],
   "source": [
    "def roc_curve_plot(test_y , pred_proba_c1):\n",
    "\n",
    "    fprs , tprs , thresholds = roc_curve(y_test ,pred_proba_c1)\n",
    "\n",
    "  \n",
    "    plt.plot(fprs , tprs, label='ROC')\n",
    "   \n",
    "    plt.plot([0, 1], [0, 1], 'k--', label='Random')\n",
    "  \n",
    "\n",
    "    plt.title('smote')\n",
    "    start, end = plt.xlim()\n",
    "    plt.xticks(np.round(np.arange(start, end, 0.1),2))\n",
    "    plt.xlim(0,1)\n",
    "    plt.ylim(0,1)\n",
    "    plt.xlabel('FPR( 1 - Sensitivity )')\n",
    "    plt.ylabel('TPR( Recall )')\n",
    "    plt.legend()\n",
    "    plt.show()\n",
    "    \n",
    "  \n",
    "roc_curve_plot(y_test, xgb_wrapper.predict_proba(X_test)[:, 1] )"
   ]
  },
  {
   "cell_type": "markdown",
   "metadata": {
    "id": "eLwopu4nWQsQ"
   },
   "source": [
    "## ADASYN\n",
    "#### SMOTE의 개선된 버전이다. 동일한 프로세스를 진행한 후 점들에 임의의 작은 값을 더해줌으로써 조금 더 사실적인 데이터가 생성된다. 즉 모든 표본이 약간 더 분산된다."
   ]
  },
  {
   "cell_type": "code",
   "execution_count": 21,
   "metadata": {
    "colab": {
     "base_uri": "https://localhost:8080/"
    },
    "id": "drkigHsfWQsQ",
    "outputId": "5abbdc42-669c-40df-bd76-d6b551f68870"
   },
   "outputs": [
    {
     "name": "stdout",
     "output_type": "stream",
     "text": [
      "Original dataset shape Counter({0: 1023, 1: 73})\n",
      "Resampled dataset shape Counter({1: 1036, 0: 1023})\n",
      "오버샘플링 전 : (1096, 186) (1096,)\n",
      "\n",
      "오버샘플링 후 : (2059, 186) (2059,)\n",
      "\n",
      "오버샘플링 전 레이블 분포 :\n",
      " 0    1023\n",
      "1      73\n",
      "dtype: int64\n",
      "\n",
      "오버샘플링 후 레이블 분포 :\n",
      " 1    1036\n",
      "0    1023\n",
      "dtype: int64\n"
     ]
    }
   ],
   "source": [
    "from collections import Counter\n",
    "from sklearn.datasets import make_classification\n",
    "from imblearn.over_sampling import ADASYN # doctest: +NORMALIZE_WHITESPACE\n",
    "\n",
    "print('Original dataset shape %s' % Counter(y_train))\n",
    "\n",
    "ada = ADASYN(random_state=12)\n",
    "X_res, y_res = ada.fit_resample(X_train, y_train)\n",
    "print('Resampled dataset shape %s' % Counter(y_res))\n",
    "\n",
    "print('오버샘플링 전 :', X_train.shape, y_train.shape)\n",
    "print()\n",
    "print('오버샘플링 후 :', X_res.shape, y_res.shape)\n",
    "print()\n",
    "print('오버샘플링 전 레이블 분포 :\\n', pd.Series(y_train).value_counts())\n",
    "print()\n",
    "print('오버샘플링 후 레이블 분포 :\\n', pd.Series(y_res).value_counts())"
   ]
  },
  {
   "cell_type": "code",
   "execution_count": 22,
   "metadata": {
    "colab": {
     "base_uri": "https://localhost:8080/",
     "height": 488
    },
    "id": "L-QVISbOCnGf",
    "outputId": "33dc25aa-10c6-4362-df51-a31d1d110db8"
   },
   "outputs": [
    {
     "data": {
      "text/html": [
       "<div>\n",
       "<style scoped>\n",
       "    .dataframe tbody tr th:only-of-type {\n",
       "        vertical-align: middle;\n",
       "    }\n",
       "\n",
       "    .dataframe tbody tr th {\n",
       "        vertical-align: top;\n",
       "    }\n",
       "\n",
       "    .dataframe thead th {\n",
       "        text-align: right;\n",
       "    }\n",
       "</style>\n",
       "<table border=\"1\" class=\"dataframe\">\n",
       "  <thead>\n",
       "    <tr style=\"text-align: right;\">\n",
       "      <th></th>\n",
       "      <th>Pass/Fail</th>\n",
       "      <th>v0</th>\n",
       "      <th>v1</th>\n",
       "      <th>v10</th>\n",
       "      <th>v102</th>\n",
       "      <th>v103</th>\n",
       "      <th>v107</th>\n",
       "      <th>v113</th>\n",
       "      <th>v115</th>\n",
       "      <th>v117</th>\n",
       "      <th>...</th>\n",
       "      <th>v79</th>\n",
       "      <th>v8</th>\n",
       "      <th>v81</th>\n",
       "      <th>v84</th>\n",
       "      <th>v86</th>\n",
       "      <th>v87</th>\n",
       "      <th>v90</th>\n",
       "      <th>v96</th>\n",
       "      <th>v98</th>\n",
       "      <th>v99</th>\n",
       "    </tr>\n",
       "  </thead>\n",
       "  <tbody>\n",
       "    <tr>\n",
       "      <th>0</th>\n",
       "      <td>0</td>\n",
       "      <td>0.343366</td>\n",
       "      <td>-1.674819</td>\n",
       "      <td>0.391304</td>\n",
       "      <td>0.152395</td>\n",
       "      <td>-1.361111</td>\n",
       "      <td>-0.738525</td>\n",
       "      <td>0.109489</td>\n",
       "      <td>-0.348598</td>\n",
       "      <td>0.380582</td>\n",
       "      <td>...</td>\n",
       "      <td>0.604255</td>\n",
       "      <td>0.191065</td>\n",
       "      <td>-0.205276</td>\n",
       "      <td>-0.507692</td>\n",
       "      <td>-0.544928</td>\n",
       "      <td>-2.306306</td>\n",
       "      <td>-0.796196</td>\n",
       "      <td>-2.175573</td>\n",
       "      <td>2.290676</td>\n",
       "      <td>-0.983221</td>\n",
       "    </tr>\n",
       "    <tr>\n",
       "      <th>1</th>\n",
       "      <td>0</td>\n",
       "      <td>0.906481</td>\n",
       "      <td>-0.490217</td>\n",
       "      <td>-0.408696</td>\n",
       "      <td>1.847605</td>\n",
       "      <td>-0.305556</td>\n",
       "      <td>-0.174317</td>\n",
       "      <td>-0.021898</td>\n",
       "      <td>0.123173</td>\n",
       "      <td>-0.494116</td>\n",
       "      <td>...</td>\n",
       "      <td>-0.425532</td>\n",
       "      <td>-0.397338</td>\n",
       "      <td>0.416798</td>\n",
       "      <td>0.553846</td>\n",
       "      <td>-0.790338</td>\n",
       "      <td>-0.054054</td>\n",
       "      <td>0.000000</td>\n",
       "      <td>-1.557252</td>\n",
       "      <td>1.736913</td>\n",
       "      <td>-0.562081</td>\n",
       "    </tr>\n",
       "    <tr>\n",
       "      <th>2</th>\n",
       "      <td>0</td>\n",
       "      <td>-0.337691</td>\n",
       "      <td>0.441533</td>\n",
       "      <td>0.478261</td>\n",
       "      <td>-0.211901</td>\n",
       "      <td>-1.388889</td>\n",
       "      <td>-0.230015</td>\n",
       "      <td>1.240876</td>\n",
       "      <td>-0.455494</td>\n",
       "      <td>-0.404638</td>\n",
       "      <td>...</td>\n",
       "      <td>-0.714894</td>\n",
       "      <td>1.386882</td>\n",
       "      <td>-1.028018</td>\n",
       "      <td>-0.923077</td>\n",
       "      <td>0.000000</td>\n",
       "      <td>-1.684685</td>\n",
       "      <td>-0.239398</td>\n",
       "      <td>0.661260</td>\n",
       "      <td>-0.095825</td>\n",
       "      <td>-0.624161</td>\n",
       "    </tr>\n",
       "    <tr>\n",
       "      <th>3</th>\n",
       "      <td>0</td>\n",
       "      <td>-1.402392</td>\n",
       "      <td>1.259026</td>\n",
       "      <td>-0.573913</td>\n",
       "      <td>0.573295</td>\n",
       "      <td>-1.055556</td>\n",
       "      <td>1.817432</td>\n",
       "      <td>0.240876</td>\n",
       "      <td>0.334313</td>\n",
       "      <td>-0.351419</td>\n",
       "      <td>...</td>\n",
       "      <td>-0.565957</td>\n",
       "      <td>0.281369</td>\n",
       "      <td>0.697734</td>\n",
       "      <td>0.384615</td>\n",
       "      <td>0.713043</td>\n",
       "      <td>-1.882883</td>\n",
       "      <td>1.128807</td>\n",
       "      <td>-0.270992</td>\n",
       "      <td>0.688262</td>\n",
       "      <td>-0.015101</td>\n",
       "    </tr>\n",
       "    <tr>\n",
       "      <th>4</th>\n",
       "      <td>0</td>\n",
       "      <td>0.654131</td>\n",
       "      <td>-1.408572</td>\n",
       "      <td>-0.608696</td>\n",
       "      <td>0.120464</td>\n",
       "      <td>0.472222</td>\n",
       "      <td>-0.064982</td>\n",
       "      <td>-0.795620</td>\n",
       "      <td>1.782400</td>\n",
       "      <td>-0.095794</td>\n",
       "      <td>...</td>\n",
       "      <td>0.042553</td>\n",
       "      <td>-0.230038</td>\n",
       "      <td>-0.031363</td>\n",
       "      <td>-0.923077</td>\n",
       "      <td>-0.885024</td>\n",
       "      <td>-1.684685</td>\n",
       "      <td>2.220649</td>\n",
       "      <td>-0.391221</td>\n",
       "      <td>-0.047789</td>\n",
       "      <td>0.140940</td>\n",
       "    </tr>\n",
       "    <tr>\n",
       "      <th>...</th>\n",
       "      <td>...</td>\n",
       "      <td>...</td>\n",
       "      <td>...</td>\n",
       "      <td>...</td>\n",
       "      <td>...</td>\n",
       "      <td>...</td>\n",
       "      <td>...</td>\n",
       "      <td>...</td>\n",
       "      <td>...</td>\n",
       "      <td>...</td>\n",
       "      <td>...</td>\n",
       "      <td>...</td>\n",
       "      <td>...</td>\n",
       "      <td>...</td>\n",
       "      <td>...</td>\n",
       "      <td>...</td>\n",
       "      <td>...</td>\n",
       "      <td>...</td>\n",
       "      <td>...</td>\n",
       "      <td>...</td>\n",
       "      <td>...</td>\n",
       "    </tr>\n",
       "    <tr>\n",
       "      <th>2054</th>\n",
       "      <td>1</td>\n",
       "      <td>0.527293</td>\n",
       "      <td>0.240996</td>\n",
       "      <td>-0.335069</td>\n",
       "      <td>-0.142746</td>\n",
       "      <td>0.583025</td>\n",
       "      <td>0.492546</td>\n",
       "      <td>0.039816</td>\n",
       "      <td>-0.384983</td>\n",
       "      <td>-1.114491</td>\n",
       "      <td>...</td>\n",
       "      <td>-0.770304</td>\n",
       "      <td>-0.037234</td>\n",
       "      <td>0.737736</td>\n",
       "      <td>0.361534</td>\n",
       "      <td>-0.593631</td>\n",
       "      <td>-0.906074</td>\n",
       "      <td>0.304567</td>\n",
       "      <td>0.003806</td>\n",
       "      <td>-0.668550</td>\n",
       "      <td>-0.561792</td>\n",
       "    </tr>\n",
       "    <tr>\n",
       "      <th>2055</th>\n",
       "      <td>1</td>\n",
       "      <td>0.358056</td>\n",
       "      <td>0.739502</td>\n",
       "      <td>-0.663120</td>\n",
       "      <td>0.379728</td>\n",
       "      <td>0.251508</td>\n",
       "      <td>0.449178</td>\n",
       "      <td>-0.395593</td>\n",
       "      <td>-1.092183</td>\n",
       "      <td>-1.602637</td>\n",
       "      <td>...</td>\n",
       "      <td>-0.639363</td>\n",
       "      <td>-0.278051</td>\n",
       "      <td>0.465506</td>\n",
       "      <td>0.363160</td>\n",
       "      <td>0.144072</td>\n",
       "      <td>-1.981173</td>\n",
       "      <td>-0.000370</td>\n",
       "      <td>0.038519</td>\n",
       "      <td>-0.836699</td>\n",
       "      <td>-0.058000</td>\n",
       "    </tr>\n",
       "    <tr>\n",
       "      <th>2056</th>\n",
       "      <td>1</td>\n",
       "      <td>-1.066430</td>\n",
       "      <td>0.348914</td>\n",
       "      <td>0.756647</td>\n",
       "      <td>0.531750</td>\n",
       "      <td>-0.321677</td>\n",
       "      <td>0.260695</td>\n",
       "      <td>-0.088384</td>\n",
       "      <td>-0.280031</td>\n",
       "      <td>-0.356567</td>\n",
       "      <td>...</td>\n",
       "      <td>0.483737</td>\n",
       "      <td>-0.069386</td>\n",
       "      <td>1.396151</td>\n",
       "      <td>0.964477</td>\n",
       "      <td>-0.709726</td>\n",
       "      <td>-0.115539</td>\n",
       "      <td>0.220523</td>\n",
       "      <td>0.033789</td>\n",
       "      <td>-0.070649</td>\n",
       "      <td>0.311050</td>\n",
       "    </tr>\n",
       "    <tr>\n",
       "      <th>2057</th>\n",
       "      <td>1</td>\n",
       "      <td>0.532708</td>\n",
       "      <td>0.622569</td>\n",
       "      <td>-0.629077</td>\n",
       "      <td>0.077851</td>\n",
       "      <td>0.267035</td>\n",
       "      <td>0.517643</td>\n",
       "      <td>-0.299240</td>\n",
       "      <td>-0.937971</td>\n",
       "      <td>-1.608027</td>\n",
       "      <td>...</td>\n",
       "      <td>-0.864429</td>\n",
       "      <td>-0.203640</td>\n",
       "      <td>0.602463</td>\n",
       "      <td>0.356672</td>\n",
       "      <td>-0.006836</td>\n",
       "      <td>-1.592143</td>\n",
       "      <td>0.149326</td>\n",
       "      <td>-0.007048</td>\n",
       "      <td>-0.789123</td>\n",
       "      <td>-0.265949</td>\n",
       "    </tr>\n",
       "    <tr>\n",
       "      <th>2058</th>\n",
       "      <td>1</td>\n",
       "      <td>-0.127899</td>\n",
       "      <td>0.452804</td>\n",
       "      <td>-0.289005</td>\n",
       "      <td>0.854296</td>\n",
       "      <td>0.711158</td>\n",
       "      <td>0.222174</td>\n",
       "      <td>-0.120205</td>\n",
       "      <td>-0.635009</td>\n",
       "      <td>-0.803704</td>\n",
       "      <td>...</td>\n",
       "      <td>0.125338</td>\n",
       "      <td>-0.217020</td>\n",
       "      <td>0.306119</td>\n",
       "      <td>0.388618</td>\n",
       "      <td>-0.375852</td>\n",
       "      <td>-1.954340</td>\n",
       "      <td>-0.162848</td>\n",
       "      <td>0.180308</td>\n",
       "      <td>-0.775148</td>\n",
       "      <td>0.040285</td>\n",
       "    </tr>\n",
       "  </tbody>\n",
       "</table>\n",
       "<p>2059 rows × 187 columns</p>\n",
       "</div>"
      ],
      "text/plain": [
       "      Pass/Fail        v0        v1       v10      v102      v103      v107  \\\n",
       "0             0  0.343366 -1.674819  0.391304  0.152395 -1.361111 -0.738525   \n",
       "1             0  0.906481 -0.490217 -0.408696  1.847605 -0.305556 -0.174317   \n",
       "2             0 -0.337691  0.441533  0.478261 -0.211901 -1.388889 -0.230015   \n",
       "3             0 -1.402392  1.259026 -0.573913  0.573295 -1.055556  1.817432   \n",
       "4             0  0.654131 -1.408572 -0.608696  0.120464  0.472222 -0.064982   \n",
       "...         ...       ...       ...       ...       ...       ...       ...   \n",
       "2054          1  0.527293  0.240996 -0.335069 -0.142746  0.583025  0.492546   \n",
       "2055          1  0.358056  0.739502 -0.663120  0.379728  0.251508  0.449178   \n",
       "2056          1 -1.066430  0.348914  0.756647  0.531750 -0.321677  0.260695   \n",
       "2057          1  0.532708  0.622569 -0.629077  0.077851  0.267035  0.517643   \n",
       "2058          1 -0.127899  0.452804 -0.289005  0.854296  0.711158  0.222174   \n",
       "\n",
       "          v113      v115      v117  ...       v79        v8       v81  \\\n",
       "0     0.109489 -0.348598  0.380582  ...  0.604255  0.191065 -0.205276   \n",
       "1    -0.021898  0.123173 -0.494116  ... -0.425532 -0.397338  0.416798   \n",
       "2     1.240876 -0.455494 -0.404638  ... -0.714894  1.386882 -1.028018   \n",
       "3     0.240876  0.334313 -0.351419  ... -0.565957  0.281369  0.697734   \n",
       "4    -0.795620  1.782400 -0.095794  ...  0.042553 -0.230038 -0.031363   \n",
       "...        ...       ...       ...  ...       ...       ...       ...   \n",
       "2054  0.039816 -0.384983 -1.114491  ... -0.770304 -0.037234  0.737736   \n",
       "2055 -0.395593 -1.092183 -1.602637  ... -0.639363 -0.278051  0.465506   \n",
       "2056 -0.088384 -0.280031 -0.356567  ...  0.483737 -0.069386  1.396151   \n",
       "2057 -0.299240 -0.937971 -1.608027  ... -0.864429 -0.203640  0.602463   \n",
       "2058 -0.120205 -0.635009 -0.803704  ...  0.125338 -0.217020  0.306119   \n",
       "\n",
       "           v84       v86       v87       v90       v96       v98       v99  \n",
       "0    -0.507692 -0.544928 -2.306306 -0.796196 -2.175573  2.290676 -0.983221  \n",
       "1     0.553846 -0.790338 -0.054054  0.000000 -1.557252  1.736913 -0.562081  \n",
       "2    -0.923077  0.000000 -1.684685 -0.239398  0.661260 -0.095825 -0.624161  \n",
       "3     0.384615  0.713043 -1.882883  1.128807 -0.270992  0.688262 -0.015101  \n",
       "4    -0.923077 -0.885024 -1.684685  2.220649 -0.391221 -0.047789  0.140940  \n",
       "...        ...       ...       ...       ...       ...       ...       ...  \n",
       "2054  0.361534 -0.593631 -0.906074  0.304567  0.003806 -0.668550 -0.561792  \n",
       "2055  0.363160  0.144072 -1.981173 -0.000370  0.038519 -0.836699 -0.058000  \n",
       "2056  0.964477 -0.709726 -0.115539  0.220523  0.033789 -0.070649  0.311050  \n",
       "2057  0.356672 -0.006836 -1.592143  0.149326 -0.007048 -0.789123 -0.265949  \n",
       "2058  0.388618 -0.375852 -1.954340 -0.162848  0.180308 -0.775148  0.040285  \n",
       "\n",
       "[2059 rows x 187 columns]"
      ]
     },
     "execution_count": 22,
     "metadata": {},
     "output_type": "execute_result"
    }
   ],
   "source": [
    "df=pd.DataFrame(y_res)\n",
    "df.columns = ['Pass/Fail']\n",
    "df=pd.concat([df,X_res], axis=1)\n",
    "df"
   ]
  },
  {
   "cell_type": "code",
   "execution_count": null,
   "metadata": {
    "id": "NYYgvT7mC5pf"
   },
   "outputs": [],
   "source": []
  },
  {
   "cell_type": "code",
   "execution_count": 23,
   "metadata": {
    "colab": {
     "base_uri": "https://localhost:8080/"
    },
    "id": "5V1g_bxxGv-w",
    "outputId": "16142317-a085-4262-8d2d-3aa849fd1cb4"
   },
   "outputs": [
    {
     "name": "stdout",
     "output_type": "stream",
     "text": [
      "[0]\tvalidation_0-logloss:0.68878\n",
      "[1]\tvalidation_0-logloss:0.68804\n",
      "[2]\tvalidation_0-logloss:0.68703\n",
      "[3]\tvalidation_0-logloss:0.69022\n",
      "[4]\tvalidation_0-logloss:0.67721\n"
     ]
    },
    {
     "name": "stderr",
     "output_type": "stream",
     "text": [
      "C:\\Users\\82104\\anaconda3\\lib\\site-packages\\xgboost\\sklearn.py:797: UserWarning: `eval_metric` in `fit` method is deprecated for better compatibility with scikit-learn, use `eval_metric` in constructor or`set_params` instead.\n",
      "  UserWarning,\n",
      "C:\\Users\\82104\\anaconda3\\lib\\site-packages\\xgboost\\sklearn.py:797: UserWarning: `early_stopping_rounds` in `fit` method is deprecated for better compatibility with scikit-learn, use `early_stopping_rounds` in constructor or`set_params` instead.\n",
      "  UserWarning,\n"
     ]
    },
    {
     "name": "stdout",
     "output_type": "stream",
     "text": [
      "[5]\tvalidation_0-logloss:0.66245\n",
      "[6]\tvalidation_0-logloss:0.65135\n",
      "[7]\tvalidation_0-logloss:0.65229\n",
      "[8]\tvalidation_0-logloss:0.64939\n",
      "[9]\tvalidation_0-logloss:0.64731\n",
      "[10]\tvalidation_0-logloss:0.63225\n",
      "[11]\tvalidation_0-logloss:0.62816\n",
      "[12]\tvalidation_0-logloss:0.62067\n",
      "[13]\tvalidation_0-logloss:0.62051\n",
      "[14]\tvalidation_0-logloss:0.61780\n",
      "[15]\tvalidation_0-logloss:0.61466\n",
      "[16]\tvalidation_0-logloss:0.61312\n",
      "[17]\tvalidation_0-logloss:0.60985\n",
      "[18]\tvalidation_0-logloss:0.60385\n",
      "[19]\tvalidation_0-logloss:0.59725\n",
      "[20]\tvalidation_0-logloss:0.59372\n",
      "[21]\tvalidation_0-logloss:0.59539\n",
      "[22]\tvalidation_0-logloss:0.59080\n",
      "[23]\tvalidation_0-logloss:0.58733\n",
      "[24]\tvalidation_0-logloss:0.58671\n",
      "[25]\tvalidation_0-logloss:0.58694\n",
      "[26]\tvalidation_0-logloss:0.58767\n",
      "[27]\tvalidation_0-logloss:0.58089\n",
      "[28]\tvalidation_0-logloss:0.56938\n",
      "[29]\tvalidation_0-logloss:0.57105\n",
      "[30]\tvalidation_0-logloss:0.56473\n",
      "[31]\tvalidation_0-logloss:0.56451\n",
      "[32]\tvalidation_0-logloss:0.56369\n",
      "[33]\tvalidation_0-logloss:0.56444\n",
      "[34]\tvalidation_0-logloss:0.56400\n",
      "[35]\tvalidation_0-logloss:0.56044\n",
      "[36]\tvalidation_0-logloss:0.55785\n",
      "[37]\tvalidation_0-logloss:0.55015\n",
      "[38]\tvalidation_0-logloss:0.55325\n",
      "[39]\tvalidation_0-logloss:0.55171\n",
      "[40]\tvalidation_0-logloss:0.54943\n",
      "[41]\tvalidation_0-logloss:0.54634\n",
      "[42]\tvalidation_0-logloss:0.54298\n",
      "[43]\tvalidation_0-logloss:0.54134\n",
      "[44]\tvalidation_0-logloss:0.53927\n",
      "[45]\tvalidation_0-logloss:0.53613\n",
      "[46]\tvalidation_0-logloss:0.52590\n",
      "[47]\tvalidation_0-logloss:0.52392\n",
      "[48]\tvalidation_0-logloss:0.51812\n",
      "[49]\tvalidation_0-logloss:0.51700\n",
      "[50]\tvalidation_0-logloss:0.51669\n",
      "[51]\tvalidation_0-logloss:0.51666\n",
      "[52]\tvalidation_0-logloss:0.51531\n",
      "[53]\tvalidation_0-logloss:0.51251\n",
      "[54]\tvalidation_0-logloss:0.51225\n",
      "[55]\tvalidation_0-logloss:0.51007\n",
      "[56]\tvalidation_0-logloss:0.51165\n",
      "[57]\tvalidation_0-logloss:0.50925\n",
      "[58]\tvalidation_0-logloss:0.51308\n",
      "[59]\tvalidation_0-logloss:0.51361\n",
      "[60]\tvalidation_0-logloss:0.51801\n",
      "[61]\tvalidation_0-logloss:0.51842\n",
      "[62]\tvalidation_0-logloss:0.51748\n",
      "[63]\tvalidation_0-logloss:0.51280\n",
      "[64]\tvalidation_0-logloss:0.50865\n",
      "[65]\tvalidation_0-logloss:0.50697\n",
      "[66]\tvalidation_0-logloss:0.50578\n",
      "[67]\tvalidation_0-logloss:0.50583\n",
      "[68]\tvalidation_0-logloss:0.50600\n",
      "[69]\tvalidation_0-logloss:0.50433\n",
      "[70]\tvalidation_0-logloss:0.49996\n",
      "[71]\tvalidation_0-logloss:0.49945\n",
      "[72]\tvalidation_0-logloss:0.49619\n",
      "[73]\tvalidation_0-logloss:0.49362\n",
      "[74]\tvalidation_0-logloss:0.49159\n",
      "[75]\tvalidation_0-logloss:0.48856\n",
      "[76]\tvalidation_0-logloss:0.48827\n",
      "[77]\tvalidation_0-logloss:0.48756\n",
      "[78]\tvalidation_0-logloss:0.48821\n",
      "[79]\tvalidation_0-logloss:0.48910\n",
      "[80]\tvalidation_0-logloss:0.48975\n",
      "[81]\tvalidation_0-logloss:0.48762\n",
      "[82]\tvalidation_0-logloss:0.48665\n",
      "[83]\tvalidation_0-logloss:0.48109\n",
      "[84]\tvalidation_0-logloss:0.47876\n",
      "[85]\tvalidation_0-logloss:0.47921\n",
      "[86]\tvalidation_0-logloss:0.48085\n",
      "[87]\tvalidation_0-logloss:0.48224\n",
      "[88]\tvalidation_0-logloss:0.48188\n",
      "[89]\tvalidation_0-logloss:0.48162\n",
      "[90]\tvalidation_0-logloss:0.48511\n",
      "[91]\tvalidation_0-logloss:0.48647\n",
      "[92]\tvalidation_0-logloss:0.48314\n",
      "[93]\tvalidation_0-logloss:0.48436\n",
      "[94]\tvalidation_0-logloss:0.48363\n"
     ]
    }
   ],
   "source": [
    "evals = [(X_test, y_test)]\n",
    "xgb_wrapper = XGBClassifier(**xgb_grid.best_params_,min_child_weight=10,gamma=10,subsample=0.1,colsample_bytree=0.1)\n",
    "xgb_wrapper.fit(X_res , y_res,  early_stopping_rounds=10, eval_set = evals, eval_metric=\"logloss\",  verbose=True)\n",
    "xgb_wrapper.fit(X_res, y_res)\n",
    "\n",
    "preds = xgb_wrapper.predict(X_test) \n",
    "pred_proba = xgb_wrapper.predict_proba(X_test)[:,1]"
   ]
  },
  {
   "cell_type": "code",
   "execution_count": 25,
   "metadata": {
    "colab": {
     "base_uri": "https://localhost:8080/",
     "height": 747
    },
    "id": "xFqeIqU6epPs",
    "outputId": "aa70940d-ad1b-47d9-c6ab-a5a52449fd5f"
   },
   "outputs": [
    {
     "data": {
      "text/plain": [
       "<matplotlib.axes._subplots.AxesSubplot at 0x18c3fc509c8>"
      ]
     },
     "execution_count": 25,
     "metadata": {},
     "output_type": "execute_result"
    },
    {
     "data": {
      "image/png": "[encoded data removed]",
      "text/plain": [
       "<Figure size 576x720 with 1 Axes>"
      ]
     },
     "metadata": {
      "needs_background": "light"
     },
     "output_type": "display_data"
    }
   ],
   "source": [
    "from xgboost import plot_importance\n",
    "import matplotlib.pyplot as plt\n",
    "%matplotlib inline\n",
    "\n",
    "fig, ax = plt.subplots(figsize=(8, 10)) \n",
    "plot_importance(xgb_wrapper, ax=ax)\n",
    "#피처의 중요도를 시각화하는 모듈"
   ]
  },
  {
   "cell_type": "code",
   "execution_count": 103,
   "metadata": {
    "colab": {
     "base_uri": "https://localhost:8080/"
    },
    "id": "WJ3ZzPkses5W",
    "outputId": "87d54d13-654f-4ade-a081-0df51d129c26"
   },
   "outputs": [
    {
     "name": "stdout",
     "output_type": "stream",
     "text": [
      " 정 확 도 : 0.8450\n"
     ]
    }
   ],
   "source": [
    "print(\" 정 확 도 : {0:.4f}\".format(accuracy_score(y_test,preds)))"
   ]
  },
  {
   "cell_type": "code",
   "execution_count": 104,
   "metadata": {
    "colab": {
     "base_uri": "https://localhost:8080/",
     "height": 541
    },
    "id": "yPLerZqUXl0q",
    "outputId": "99cffa6d-36b3-445a-d519-e47ef0838a14"
   },
   "outputs": [
    {
     "data": {
      "image/png": "[encoded data removed]",
      "text/plain": [
       "<Figure size 432x288 with 2 Axes>"
      ]
     },
     "metadata": {
      "needs_background": "light"
     },
     "output_type": "display_data"
    },
    {
     "data": {
      "image/png": "[encoded data removed]",
      "text/plain": [
       "<Figure size 432x288 with 2 Axes>"
      ]
     },
     "metadata": {
      "needs_background": "light"
     },
     "output_type": "display_data"
    }
   ],
   "source": [
    "\n",
    "from sklearn.metrics import confusion_matrix, ConfusionMatrixDisplay\n",
    "cm = confusion_matrix(y_test,preds, labels=xgb_wrapper.classes_)\n",
    "disp = ConfusionMatrixDisplay(confusion_matrix=cm,\n",
    "                              display_labels=xgb_wrapper.classes_)\n",
    "disp = disp.plot(cmap=plt.cm.Blues,values_format='g')\n",
    "disp.plot()\n",
    "plt.show()"
   ]
  },
  {
   "cell_type": "code",
   "execution_count": 105,
   "metadata": {
    "colab": {
     "base_uri": "https://localhost:8080/",
     "height": 612
    },
    "id": "u8VgUGBPXq3a",
    "outputId": "6ecc7a8f-d1ff-42cd-94e1-3d56f20948b6"
   },
   "outputs": [
    {
     "name": "stdout",
     "output_type": "stream",
     "text": [
      "confusion matrix=\n",
      " [[383  57]\n",
      " [ 16  15]]\n",
      "trainset 정확도:  0.8800388538125303\n",
      "testset 정확도:  0.8450106157112527\n",
      "accuracy=  0.8450106157112527\n",
      "precision=  0.20833333333333334\n",
      "recall=  0.4838709677419355\n",
      "f1 score=  0.2912621359223301\n",
      "교차 검증=  0.9341993281075028\n",
      "              precision    recall  f1-score   support\n",
      "\n",
      "           0       0.96      0.87      0.91       440\n",
      "           1       0.21      0.48      0.29        31\n",
      "\n",
      "    accuracy                           0.85       471\n",
      "   macro avg       0.58      0.68      0.60       471\n",
      "weighted avg       0.91      0.85      0.87       471\n",
      "\n"
     ]
    },
    {
     "data": {
      "text/plain": [
       "<matplotlib.axes._subplots.AxesSubplot at 0x7f9cef46d310>"
      ]
     },
     "execution_count": 105,
     "metadata": {},
     "output_type": "execute_result"
    },
    {
     "data": {
      "image/png": "[encoded data removed]",
      "text/plain": [
       "<Figure size 432x288 with 2 Axes>"
      ]
     },
     "metadata": {
      "needs_background": "light"
     },
     "output_type": "display_data"
    }
   ],
   "source": [
    "from sklearn.model_selection import cross_val_score\n",
    "from sklearn.metrics import classification_report\n",
    "print('confusion matrix=\\n',confusion_matrix(y_true=y_test,y_pred=preds))\n",
    "print('trainset 정확도: ',xgb_wrapper.score(X_res,y_res)) #trainset 정확도\n",
    "print('testset 정확도: ',xgb_wrapper.score(X_test,y_test)) #testset 정확도\n",
    "print('accuracy= ',accuracy_score(y_true=y_test,y_pred=preds))\n",
    "print('precision= ',precision_score(y_true=y_test,y_pred=preds))\n",
    "print('recall= ',recall_score(y_true=y_test,y_pred=preds))\n",
    "print('f1 score= ',f1_score(y_true=y_test,y_pred=preds))\n",
    "print('교차 검증= ',cross_val_score(xgb_wrapper,X_test,y_test).mean())\n",
    "print(classification_report(y_test,preds))\n",
    "heat=pd.DataFrame(confusion_matrix(y_test,preds))\n",
    "sns.heatmap(heat,annot=True)"
   ]
  },
  {
   "cell_type": "code",
   "execution_count": 106,
   "metadata": {
    "id": "1uOBHWgfXumB"
   },
   "outputs": [],
   "source": [
    "fpr,tpr,thresholds=roc_curve(y_test,preds,pos_label=1)"
   ]
  },
  {
   "cell_type": "code",
   "execution_count": 107,
   "metadata": {
    "colab": {
     "base_uri": "https://localhost:8080/",
     "height": 300
    },
    "id": "mRJOQ66pX5nq",
    "outputId": "dd201699-1c8a-4128-9f78-43558b66871a"
   },
   "outputs": [
    {
     "name": "stdout",
     "output_type": "stream",
     "text": [
      "Auc: 0.6771627565982405\n"
     ]
    },
    {
     "data": {
      "image/png": "[encoded data removed]",
      "text/plain": [
       "<Figure size 432x288 with 1 Axes>"
      ]
     },
     "metadata": {
      "needs_background": "light"
     },
     "output_type": "display_data"
    }
   ],
   "source": [
    "def plot_roc_curve(fpr,tpr):\n",
    "    plt.plot(fpr, tpr, linewidth = 2)\n",
    "    plt.plot([0,1], [0,1], 'k--')\n",
    "    plt.axis([0,1,0,1])\n",
    "    plt.xlabel('False Positive Rate')\n",
    "    plt.ylabel('True Positive Rate')\n",
    "\n",
    "plot_roc_curve(fpr, tpr)\n",
    "auc=np.trapz(tpr,fpr)\n",
    "print(\"Auc:\",auc)"
   ]
  },
  {
   "cell_type": "markdown",
   "metadata": {
    "id": "73XYj2pBX5X6"
   },
   "source": []
  },
  {
   "cell_type": "code",
   "execution_count": 108,
   "metadata": {
    "colab": {
     "base_uri": "https://localhost:8080/"
    },
    "id": "CflR_hkvE_LM",
    "outputId": "32fda1b2-e7c2-4e8a-9620-3daf1f3c38b2"
   },
   "outputs": [
    {
     "name": "stdout",
     "output_type": "stream",
     "text": [
      "              precision    recall  f1-score   support\n",
      "\n",
      "           0       0.96      0.87      0.91       440\n",
      "           1       0.21      0.48      0.29        31\n",
      "\n",
      "    accuracy                           0.85       471\n",
      "   macro avg       0.58      0.68      0.60       471\n",
      "weighted avg       0.91      0.85      0.87       471\n",
      "\n"
     ]
    }
   ],
   "source": [
    "from sklearn.metrics import classification_report\n",
    "y_pred = xgb_wrapper.predict(X_test)\n",
    "accuracy_score(y_test, y_pred)\n",
    "\n",
    "print(classification_report(y_test, y_pred))"
   ]
  },
  {
   "cell_type": "code",
   "execution_count": 109,
   "metadata": {
    "colab": {
     "base_uri": "https://localhost:8080/",
     "height": 295
    },
    "id": "dqGt474WDCK7",
    "outputId": "8874eee0-56d6-4da8-bd89-35e50175d91c"
   },
   "outputs": [
    {
     "data": {
      "image/png": "[encoded data removed]",
      "text/plain": [
       "<Figure size 432x288 with 1 Axes>"
      ]
     },
     "metadata": {
      "needs_background": "light"
     },
     "output_type": "display_data"
    }
   ],
   "source": [
    "def roc_curve_plot(y_test , pred_proba_c1):\n",
    "\n",
    "    fprs , tprs , thresholds = roc_curve(y_test ,pred_proba_c1)\n",
    "\n",
    "  \n",
    "    plt.plot(fprs , tprs, label='ROC')\n",
    "   \n",
    "    plt.plot([0, 1], [0, 1], 'k--', label='Random')\n",
    "  \n",
    "\n",
    "    plt.title('smote')\n",
    "    start, end = plt.xlim()\n",
    "    plt.xticks(np.round(np.arange(start, end, 0.1),2))\n",
    "    plt.xlim(0,1)\n",
    "    plt.ylim(0,1)\n",
    "    plt.xlabel('FPR( 1 - Sensitivity )')\n",
    "    plt.ylabel('TPR( Recall )')\n",
    "    plt.legend()\n",
    "    plt.show()\n",
    "    \n",
    "  \n",
    "roc_curve_plot(y_test, xgb_wrapper.predict_proba(X_test)[:, 1] )"
   ]
  }
 ],
 "metadata": {
  "colab": {
   "collapsed_sections": [],
   "name": "xgboost_Test.ipynb",
   "provenance": []
  },
  "kernelspec": {
   "display_name": "Python 3",
   "language": "python",
   "name": "python3"
  },
  "language_info": {
   "codemirror_mode": {
    "name": "ipython",
    "version": 3
   },
   "file_extension": ".py",
   "mimetype": "text/x-python",
   "name": "python",
   "nbconvert_exporter": "python",
   "pygments_lexer": "ipython3",
   "version": "3.7.6"
  }
 },
 "nbformat": 4,
 "nbformat_minor": 1
}
